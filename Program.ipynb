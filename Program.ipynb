{
 "cells": [
  {
   "cell_type": "markdown",
   "id": "3bbb7625",
   "metadata": {},
   "source": [
    "Background\n",
    "E-commerce companies like amazon,flipcart uses different recommendation system to provide suggestions to the customers.amazon\n",
    "uses currently 'item-item collaborative filtering'(User based recommenadtion system),which scales to massive datasets and products high quality\n",
    "recommendation system in real time.This system is a kind of information filtering systemwhich seeks to predict the 'rating' or preferences\n",
    "which user interested in"
   ]
  },
  {
   "cell_type": "markdown",
   "id": "0ae41b7f",
   "metadata": {},
   "source": [
    "A recommendation engine is a system or algorithm that analyze user data and provides personalized suggestion\n",
    "or recommendation for items or content that the user may be interested in.\n",
    "These recommendations are based on various factors such as the 'user preferences','historical behavior','demographic information',and 'similarities to other user'"
   ]
  },
  {
   "cell_type": "markdown",
   "id": "6cfa3e7a",
   "metadata": {},
   "source": [
    "Recommendation engines are commonly used in e-commerce,OTT,scoial media platform and othe online services to enhance user experience and engagement..\n",
    "They help users discovernew products,movies,music,articles,or any other items that align with their interests...\n",
    "recommender system creates a similarity b/n user and item , expolits the similarity b/n user/item to make recommendations."
   ]
  },
  {
   "cell_type": "raw",
   "id": "8ec1f5cb",
   "metadata": {},
   "source": [
    "What recommender system can solve?\n",
    "\n",
    "1.it can help user to find the right product\n",
    "2.it can increase the user engagement.for ex->there's 40% more click on the google news due to recommendation\n",
    "3.it helps the item providers to deliver the items to right user.in amazon,35% products get sold due to recommendation\n",
    "4.it helps to make the contents more personalized.in Netflix most of the rented movies are from recommendation"
   ]
  },
  {
   "cell_type": "markdown",
   "id": "a9a77fae",
   "metadata": {},
   "source": [
    "Types of recommendations?\n",
    "mainly 6 types of recommendation system\n",
    "1.popularity based systems -> it worksby recommending items viwed and purchased by most people and purchased by most people and are rated high...it is not personalized recommendation\n",
    "\n",
    "2.classification model based -> it works by understanding the features of the user and applying the classification algorithm to dicide whether the user is interested or  ot in product\n",
    "\n",
    "3.content based recommendation -> it is based on the information on the contents of item rather than on the user opinions.\n",
    "\n",
    "4.Collaberative filtering -> it is based on assumption that people like things similar to other things they like,and things that are liked by other people with similar taste.\n",
    "  a) User-User\n",
    "  b) Item-Item\n",
    "\n",
    "5.Hybrid Approaches -> this system approach is to  combine collaberative filtering , content based filtering ....and other approaches discussed above..\n",
    "\n",
    "6.Association rule mining ->it captures the relationship b/n item based on their patterns of co-occurence accross transaction.."
   ]
  },
  {
   "cell_type": "raw",
   "id": "3cc3ed05",
   "metadata": {},
   "source": [
    "Attribute info of dataset\n",
    "\n",
    "userId -> uid for users\n",
    "productId -> \n",
    "Rating ->\n",
    "timestamp -> time of the rating"
   ]
  },
  {
   "cell_type": "code",
   "execution_count": 1,
   "id": "268d770d",
   "metadata": {},
   "outputs": [],
   "source": [
    "#i have not considered complete 7 million data bcz my m/c can't afford it.....do it later bro.."
   ]
  },
  {
   "cell_type": "code",
   "execution_count": 1,
   "id": "d0ffd7c8",
   "metadata": {},
   "outputs": [],
   "source": [
    "import pandas as pd\n",
    "import numpy as np\n",
    "import seaborn as sns\n",
    "from matplotlib import pyplot as plt\n",
    "import warnings\n",
    "import os\n",
    "import importlib\n",
    "warnings.filterwarnings('ignore')\n",
    "sns.set_theme(color_codes=True)\n"
   ]
  },
  {
   "cell_type": "code",
   "execution_count": 2,
   "id": "cfdbb734",
   "metadata": {},
   "outputs": [],
   "source": [
    "df = pd.read_csv(r\"D:\\PROJECTS\\amazon_recommendation_engine\\ratings_Electronics.csv\",names=['userId','ProductId','rating','timestamp'])"
   ]
  },
  {
   "cell_type": "code",
   "execution_count": 3,
   "id": "212c19ba",
   "metadata": {},
   "outputs": [
    {
     "data": {
      "text/plain": [
       "(7824482, 4)"
      ]
     },
     "execution_count": 3,
     "metadata": {},
     "output_type": "execute_result"
    }
   ],
   "source": [
    "df.shape\n",
    "#7 million data points/rows"
   ]
  },
  {
   "cell_type": "code",
   "execution_count": 4,
   "id": "41df644a",
   "metadata": {},
   "outputs": [
    {
     "data": {
      "text/html": [
       "<div>\n",
       "<style scoped>\n",
       "    .dataframe tbody tr th:only-of-type {\n",
       "        vertical-align: middle;\n",
       "    }\n",
       "\n",
       "    .dataframe tbody tr th {\n",
       "        vertical-align: top;\n",
       "    }\n",
       "\n",
       "    .dataframe thead th {\n",
       "        text-align: right;\n",
       "    }\n",
       "</style>\n",
       "<table border=\"1\" class=\"dataframe\">\n",
       "  <thead>\n",
       "    <tr style=\"text-align: right;\">\n",
       "      <th></th>\n",
       "      <th>userId</th>\n",
       "      <th>ProductId</th>\n",
       "      <th>rating</th>\n",
       "      <th>timestamp</th>\n",
       "    </tr>\n",
       "  </thead>\n",
       "  <tbody>\n",
       "    <tr>\n",
       "      <th>0</th>\n",
       "      <td>AKM1MP6P0OYPR</td>\n",
       "      <td>0132793040</td>\n",
       "      <td>5.0</td>\n",
       "      <td>1365811200</td>\n",
       "    </tr>\n",
       "    <tr>\n",
       "      <th>1</th>\n",
       "      <td>A2CX7LUOHB2NDG</td>\n",
       "      <td>0321732944</td>\n",
       "      <td>5.0</td>\n",
       "      <td>1341100800</td>\n",
       "    </tr>\n",
       "    <tr>\n",
       "      <th>2</th>\n",
       "      <td>A2NWSAGRHCP8N5</td>\n",
       "      <td>0439886341</td>\n",
       "      <td>1.0</td>\n",
       "      <td>1367193600</td>\n",
       "    </tr>\n",
       "    <tr>\n",
       "      <th>3</th>\n",
       "      <td>A2WNBOD3WNDNKT</td>\n",
       "      <td>0439886341</td>\n",
       "      <td>3.0</td>\n",
       "      <td>1374451200</td>\n",
       "    </tr>\n",
       "    <tr>\n",
       "      <th>4</th>\n",
       "      <td>A1GI0U4ZRJA8WN</td>\n",
       "      <td>0439886341</td>\n",
       "      <td>1.0</td>\n",
       "      <td>1334707200</td>\n",
       "    </tr>\n",
       "  </tbody>\n",
       "</table>\n",
       "</div>"
      ],
      "text/plain": [
       "           userId   ProductId  rating   timestamp\n",
       "0   AKM1MP6P0OYPR  0132793040     5.0  1365811200\n",
       "1  A2CX7LUOHB2NDG  0321732944     5.0  1341100800\n",
       "2  A2NWSAGRHCP8N5  0439886341     1.0  1367193600\n",
       "3  A2WNBOD3WNDNKT  0439886341     3.0  1374451200\n",
       "4  A1GI0U4ZRJA8WN  0439886341     1.0  1334707200"
      ]
     },
     "execution_count": 4,
     "metadata": {},
     "output_type": "execute_result"
    }
   ],
   "source": [
    "df.head()"
   ]
  },
  {
   "cell_type": "code",
   "execution_count": 5,
   "id": "81921286",
   "metadata": {},
   "outputs": [],
   "source": [
    "#Since dataset is too big,thats why i am randomly taking 20% of data as sample -> which is 20/100 * (7824482) => 1564896"
   ]
  },
  {
   "cell_type": "code",
   "execution_count": 6,
   "id": "ced75805",
   "metadata": {},
   "outputs": [],
   "source": [
    "sample_data = df.sample(n=1564896, ignore_index=True)"
   ]
  },
  {
   "cell_type": "code",
   "execution_count": 7,
   "id": "aff5c369",
   "metadata": {},
   "outputs": [
    {
     "data": {
      "text/plain": [
       "(1564896, 4)"
      ]
     },
     "execution_count": 7,
     "metadata": {},
     "output_type": "execute_result"
    }
   ],
   "source": [
    "sample_data.shape"
   ]
  },
  {
   "cell_type": "code",
   "execution_count": 8,
   "id": "16648a06",
   "metadata": {},
   "outputs": [
    {
     "data": {
      "text/html": [
       "<div>\n",
       "<style scoped>\n",
       "    .dataframe tbody tr th:only-of-type {\n",
       "        vertical-align: middle;\n",
       "    }\n",
       "\n",
       "    .dataframe tbody tr th {\n",
       "        vertical-align: top;\n",
       "    }\n",
       "\n",
       "    .dataframe thead th {\n",
       "        text-align: right;\n",
       "    }\n",
       "</style>\n",
       "<table border=\"1\" class=\"dataframe\">\n",
       "  <thead>\n",
       "    <tr style=\"text-align: right;\">\n",
       "      <th></th>\n",
       "      <th>userId</th>\n",
       "      <th>ProductId</th>\n",
       "      <th>rating</th>\n",
       "      <th>timestamp</th>\n",
       "    </tr>\n",
       "  </thead>\n",
       "  <tbody>\n",
       "    <tr>\n",
       "      <th>0</th>\n",
       "      <td>A1CJ9WZFMPLSNK</td>\n",
       "      <td>B00FX9WJNO</td>\n",
       "      <td>5.0</td>\n",
       "      <td>1402272000</td>\n",
       "    </tr>\n",
       "    <tr>\n",
       "      <th>1</th>\n",
       "      <td>A3JD3GQOKIFZ1D</td>\n",
       "      <td>B003Q68RS2</td>\n",
       "      <td>4.0</td>\n",
       "      <td>1367107200</td>\n",
       "    </tr>\n",
       "    <tr>\n",
       "      <th>2</th>\n",
       "      <td>A1K21OPFQTFIM7</td>\n",
       "      <td>B003MXJ0QW</td>\n",
       "      <td>5.0</td>\n",
       "      <td>1351468800</td>\n",
       "    </tr>\n",
       "    <tr>\n",
       "      <th>3</th>\n",
       "      <td>AQBI6F6RMPOP4</td>\n",
       "      <td>B00CO8TBOW</td>\n",
       "      <td>5.0</td>\n",
       "      <td>1399075200</td>\n",
       "    </tr>\n",
       "    <tr>\n",
       "      <th>4</th>\n",
       "      <td>A3I7N4YJPT631V</td>\n",
       "      <td>B0028N6VLE</td>\n",
       "      <td>4.0</td>\n",
       "      <td>1267574400</td>\n",
       "    </tr>\n",
       "  </tbody>\n",
       "</table>\n",
       "</div>"
      ],
      "text/plain": [
       "           userId   ProductId  rating   timestamp\n",
       "0  A1CJ9WZFMPLSNK  B00FX9WJNO     5.0  1402272000\n",
       "1  A3JD3GQOKIFZ1D  B003Q68RS2     4.0  1367107200\n",
       "2  A1K21OPFQTFIM7  B003MXJ0QW     5.0  1351468800\n",
       "3   AQBI6F6RMPOP4  B00CO8TBOW     5.0  1399075200\n",
       "4  A3I7N4YJPT631V  B0028N6VLE     4.0  1267574400"
      ]
     },
     "execution_count": 8,
     "metadata": {},
     "output_type": "execute_result"
    }
   ],
   "source": [
    "sample_data.head()"
   ]
  },
  {
   "cell_type": "code",
   "execution_count": 9,
   "id": "97b8a67a",
   "metadata": {},
   "outputs": [],
   "source": [
    "del df # to release the memory occupied by df"
   ]
  },
  {
   "cell_type": "code",
   "execution_count": 10,
   "id": "5718d325",
   "metadata": {},
   "outputs": [
    {
     "name": "stdout",
     "output_type": "stream",
     "text": [
      "<class 'pandas.core.frame.DataFrame'>\n",
      "RangeIndex: 1564896 entries, 0 to 1564895\n",
      "Data columns (total 4 columns):\n",
      " #   Column     Non-Null Count    Dtype  \n",
      "---  ------     --------------    -----  \n",
      " 0   userId     1564896 non-null  object \n",
      " 1   ProductId  1564896 non-null  object \n",
      " 2   rating     1564896 non-null  float64\n",
      " 3   timestamp  1564896 non-null  int64  \n",
      "dtypes: float64(1), int64(1), object(2)\n",
      "memory usage: 47.8+ MB\n"
     ]
    }
   ],
   "source": [
    "sample_data.info()"
   ]
  },
  {
   "cell_type": "code",
   "execution_count": 11,
   "id": "5248ca1d",
   "metadata": {},
   "outputs": [],
   "source": [
    "#we dont need timestamp\n",
    "sample_data.drop(columns=['timestamp'],inplace=True)"
   ]
  },
  {
   "cell_type": "code",
   "execution_count": 12,
   "id": "df77a01e",
   "metadata": {},
   "outputs": [
    {
     "data": {
      "text/html": [
       "<div>\n",
       "<style scoped>\n",
       "    .dataframe tbody tr th:only-of-type {\n",
       "        vertical-align: middle;\n",
       "    }\n",
       "\n",
       "    .dataframe tbody tr th {\n",
       "        vertical-align: top;\n",
       "    }\n",
       "\n",
       "    .dataframe thead th {\n",
       "        text-align: right;\n",
       "    }\n",
       "</style>\n",
       "<table border=\"1\" class=\"dataframe\">\n",
       "  <thead>\n",
       "    <tr style=\"text-align: right;\">\n",
       "      <th></th>\n",
       "      <th>rating</th>\n",
       "    </tr>\n",
       "  </thead>\n",
       "  <tbody>\n",
       "    <tr>\n",
       "      <th>count</th>\n",
       "      <td>1.564896e+06</td>\n",
       "    </tr>\n",
       "    <tr>\n",
       "      <th>mean</th>\n",
       "      <td>4.013170e+00</td>\n",
       "    </tr>\n",
       "    <tr>\n",
       "      <th>std</th>\n",
       "      <td>1.381009e+00</td>\n",
       "    </tr>\n",
       "    <tr>\n",
       "      <th>min</th>\n",
       "      <td>1.000000e+00</td>\n",
       "    </tr>\n",
       "    <tr>\n",
       "      <th>25%</th>\n",
       "      <td>3.000000e+00</td>\n",
       "    </tr>\n",
       "    <tr>\n",
       "      <th>50%</th>\n",
       "      <td>5.000000e+00</td>\n",
       "    </tr>\n",
       "    <tr>\n",
       "      <th>75%</th>\n",
       "      <td>5.000000e+00</td>\n",
       "    </tr>\n",
       "    <tr>\n",
       "      <th>max</th>\n",
       "      <td>5.000000e+00</td>\n",
       "    </tr>\n",
       "  </tbody>\n",
       "</table>\n",
       "</div>"
      ],
      "text/plain": [
       "             rating\n",
       "count  1.564896e+06\n",
       "mean   4.013170e+00\n",
       "std    1.381009e+00\n",
       "min    1.000000e+00\n",
       "25%    3.000000e+00\n",
       "50%    5.000000e+00\n",
       "75%    5.000000e+00\n",
       "max    5.000000e+00"
      ]
     },
     "execution_count": 12,
     "metadata": {},
     "output_type": "execute_result"
    }
   ],
   "source": [
    "sample_data.describe()\n",
    "#25% of rating are less than 3\n",
    "#minimum rating on product is 1 , maximum rating is 5 and avg rating is around 4"
   ]
  },
  {
   "cell_type": "code",
   "execution_count": 13,
   "id": "33c43fea",
   "metadata": {},
   "outputs": [
    {
     "data": {
      "text/plain": [
       "0"
      ]
     },
     "execution_count": 13,
     "metadata": {},
     "output_type": "execute_result"
    }
   ],
   "source": [
    "sample_data.duplicated().sum() #No duplicate rows....(but there are duplicated UserId and ProductId)\n",
    "#(bcz many to mant relationship b/n user and products..)\n",
    "#UserId and ProductId together form Primary Key (PK)"
   ]
  },
  {
   "cell_type": "markdown",
   "id": "83a81c4d",
   "metadata": {},
   "source": [
    "# sample_data analysis"
   ]
  },
  {
   "cell_type": "code",
   "execution_count": 14,
   "id": "bb3d1b41",
   "metadata": {},
   "outputs": [
    {
     "data": {
      "text/plain": [
       "Text(0, 0.5, 'Count')"
      ]
     },
     "execution_count": 14,
     "metadata": {},
     "output_type": "execute_result"
    },
    {
     "data": {
      "image/png": "[encoded data removed]",
      "text/plain": [
       "<Figure size 800x400 with 1 Axes>"
      ]
     },
     "metadata": {},
     "output_type": "display_data"
    }
   ],
   "source": [
    "plt.figure(figsize=(8,4))\n",
    "sns.countplot(x='rating',data=sample_data)\n",
    "plt.title('Rating distribution')\n",
    "plt.xlabel('Rating')\n",
    "plt.ylabel('Count')"
   ]
  },
  {
   "cell_type": "code",
   "execution_count": 15,
   "id": "1d483011",
   "metadata": {},
   "outputs": [
    {
     "data": {
      "image/png": "[encoded data removed]",
      "text/plain": [
       "<Figure size 800x600 with 1 Axes>"
      ]
     },
     "metadata": {},
     "output_type": "display_data"
    }
   ],
   "source": [
    "plt.figure(figsize=(8, 6))\n",
    "sns.boxplot(x='rating', data=sample_data,showmeans=True)\n",
    "plt.title('Boxplot of Ratings')\n",
    "plt.xlabel('Rating')\n",
    "plt.ylabel('Count')\n",
    "plt.show()"
   ]
  },
  {
   "cell_type": "code",
   "execution_count": 16,
   "id": "a281997c",
   "metadata": {},
   "outputs": [
    {
     "data": {
      "text/plain": [
       "237912"
      ]
     },
     "execution_count": 16,
     "metadata": {},
     "output_type": "execute_result"
    }
   ],
   "source": [
    "#total no of unique products in sample_data\n",
    "sample_data['ProductId'].unique().shape[0]"
   ]
  },
  {
   "cell_type": "markdown",
   "id": "6f571c2a",
   "metadata": {},
   "source": [
    "#Analyzing the rating by user"
   ]
  },
  {
   "cell_type": "code",
   "execution_count": 17,
   "id": "e4fad7b2",
   "metadata": {},
   "outputs": [
    {
     "data": {
      "text/plain": [
       "userId\n",
       "A5JLAU2ARJ0BO     110\n",
       "A3OXHLG6DIBRW8    107\n",
       "ADLVFFE4VBT8      101\n",
       "A680RUE1FDO8B     100\n",
       "A6FIAB28IS79       86\n",
       "Name: rating, dtype: int64"
      ]
     },
     "execution_count": 17,
     "metadata": {},
     "output_type": "execute_result"
    }
   ],
   "source": [
    "#Analyzing the rating by user\n",
    "no_of_rated_products_per_user = sample_data.groupby(by='userId')['rating'].count().sort_values(ascending=False) #pandas series,,,same as sql query 9group by clause)\n",
    "no_of_rated_products_per_user.head()\n",
    "#as u see ADLVFFE4VBT8 USER has given more reviews in sample_data..\n",
    "#ie;he has given 107 times rate in total..(Not given 107 rate to single product..LOL)\n",
    "#OR we can say he has given ratings for 107 products in total.."
   ]
  },
  {
   "cell_type": "code",
   "execution_count": 18,
   "id": "41c90caa",
   "metadata": {},
   "outputs": [
    {
     "name": "stdout",
     "output_type": "stream",
     "text": [
      "No of Users who has given ratings more than 50 in total:26\n"
     ]
    }
   ],
   "source": [
    "print('No of Users who has given ratings more than 50 in total:{}'.format(sum(no_of_rated_products_per_user >= 50)))"
   ]
  },
  {
   "cell_type": "code",
   "execution_count": 19,
   "id": "c064639e",
   "metadata": {},
   "outputs": [
    {
     "data": {
      "text/plain": [
       "userId\n",
       "A5JLAU2ARJ0BO     110\n",
       "A3OXHLG6DIBRW8    107\n",
       "ADLVFFE4VBT8      101\n",
       "A680RUE1FDO8B     100\n",
       "A6FIAB28IS79       86\n",
       "A1ODOGXEYECQQ8     72\n",
       "A36K2N527TXXJN     70\n",
       "AWPODHOB4GFWL      65\n",
       "A3EXWV8FNSSFL6     63\n",
       "A17BUUBOU0598B     62\n",
       "A1X1CEGHTHMBL1     60\n",
       "A3LGT6UZL99IW1     60\n",
       "A22CW0ZHY3NJH8     58\n",
       "A23GFTVIETX7DS     58\n",
       "ARBKYIVNYWK3C      55\n",
       "A1UQBFCERIP7VJ     55\n",
       "A38RMU1Y5TDP9      54\n",
       "A1J75JJ0Q2OEJN     54\n",
       "AEJAGHLC675A7      54\n",
       "A1T1YSCDW0PD25     52\n",
       "A2AY4YUOX2N1BQ     51\n",
       "A203OCQQ12MAVT     51\n",
       "A31N0XY2UTB25C     50\n",
       "A2NOW4U7W3F7RI     50\n",
       "A25C2M3QF9G7OQ     50\n",
       "A3AYSYSLHU26U9     50\n",
       "AQIJ3ZEEVCIKU      48\n",
       "A19W47CXJJP1MI     48\n",
       "A3NHUQ33CFH3VM     48\n",
       "A3T7V207KRDE2O     48\n",
       "Name: rating, dtype: int64"
      ]
     },
     "execution_count": 19,
     "metadata": {},
     "output_type": "execute_result"
    }
   ],
   "source": [
    "no_of_rated_products_per_user.head(30)"
   ]
  },
  {
   "cell_type": "code",
   "execution_count": 20,
   "id": "bb142c59",
   "metadata": {},
   "outputs": [],
   "source": [
    "# as u see only 26 products are there in sample_data which has get the more than 50 rate"
   ]
  },
  {
   "cell_type": "markdown",
   "id": "aa337a33",
   "metadata": {},
   "source": [
    "Popularity based Recommendation"
   ]
  },
  {
   "cell_type": "markdown",
   "id": "392baec8",
   "metadata": {},
   "source": [
    "For example , if any product which is usually  brought by every new user than there are chances that it will suggest that item to the user who just signed up"
   ]
  },
  {
   "cell_type": "markdown",
   "id": "ff5b8e13",
   "metadata": {},
   "source": [
    "the problem with popularity based recommendation system is that personalization is not available with this method...even though you know the behavior of the user but you can't recommend items accordingly"
   ]
  },
  {
   "cell_type": "code",
   "execution_count": 21,
   "id": "cc07a453",
   "metadata": {},
   "outputs": [
    {
     "data": {
      "text/html": [
       "<div>\n",
       "<style scoped>\n",
       "    .dataframe tbody tr th:only-of-type {\n",
       "        vertical-align: middle;\n",
       "    }\n",
       "\n",
       "    .dataframe tbody tr th {\n",
       "        vertical-align: top;\n",
       "    }\n",
       "\n",
       "    .dataframe thead th {\n",
       "        text-align: right;\n",
       "    }\n",
       "</style>\n",
       "<table border=\"1\" class=\"dataframe\">\n",
       "  <thead>\n",
       "    <tr style=\"text-align: right;\">\n",
       "      <th></th>\n",
       "      <th>userId</th>\n",
       "      <th>ProductId</th>\n",
       "      <th>rating</th>\n",
       "    </tr>\n",
       "  </thead>\n",
       "  <tbody>\n",
       "    <tr>\n",
       "      <th>3</th>\n",
       "      <td>AQBI6F6RMPOP4</td>\n",
       "      <td>B00CO8TBOW</td>\n",
       "      <td>5.0</td>\n",
       "    </tr>\n",
       "    <tr>\n",
       "      <th>5</th>\n",
       "      <td>A1EI9ZDGWNW9IR</td>\n",
       "      <td>B003JD6LVW</td>\n",
       "      <td>1.0</td>\n",
       "    </tr>\n",
       "    <tr>\n",
       "      <th>7</th>\n",
       "      <td>A2ZHWRBQ8O3L3I</td>\n",
       "      <td>B001GTT0VO</td>\n",
       "      <td>3.0</td>\n",
       "    </tr>\n",
       "    <tr>\n",
       "      <th>8</th>\n",
       "      <td>A2C57VMBSDKO8M</td>\n",
       "      <td>B005CT56F8</td>\n",
       "      <td>4.0</td>\n",
       "    </tr>\n",
       "    <tr>\n",
       "      <th>9</th>\n",
       "      <td>A3EBYB4OJSYL5M</td>\n",
       "      <td>B005ES0YYA</td>\n",
       "      <td>5.0</td>\n",
       "    </tr>\n",
       "    <tr>\n",
       "      <th>...</th>\n",
       "      <td>...</td>\n",
       "      <td>...</td>\n",
       "      <td>...</td>\n",
       "    </tr>\n",
       "    <tr>\n",
       "      <th>1564884</th>\n",
       "      <td>A1QFNFM3VXCIH1</td>\n",
       "      <td>B003NR57BY</td>\n",
       "      <td>5.0</td>\n",
       "    </tr>\n",
       "    <tr>\n",
       "      <th>1564887</th>\n",
       "      <td>A13H8I9FHQTIDH</td>\n",
       "      <td>B0009RGLSE</td>\n",
       "      <td>5.0</td>\n",
       "    </tr>\n",
       "    <tr>\n",
       "      <th>1564888</th>\n",
       "      <td>A2D333TODX15EN</td>\n",
       "      <td>B006JH8T3S</td>\n",
       "      <td>5.0</td>\n",
       "    </tr>\n",
       "    <tr>\n",
       "      <th>1564891</th>\n",
       "      <td>A3BXSUNEVAFAGF</td>\n",
       "      <td>B000NMFCIA</td>\n",
       "      <td>5.0</td>\n",
       "    </tr>\n",
       "    <tr>\n",
       "      <th>1564895</th>\n",
       "      <td>A23WZQWESCM61D</td>\n",
       "      <td>B0031GGQC6</td>\n",
       "      <td>1.0</td>\n",
       "    </tr>\n",
       "  </tbody>\n",
       "</table>\n",
       "<p>641195 rows × 3 columns</p>\n",
       "</div>"
      ],
      "text/plain": [
       "                 userId   ProductId  rating\n",
       "3         AQBI6F6RMPOP4  B00CO8TBOW     5.0\n",
       "5        A1EI9ZDGWNW9IR  B003JD6LVW     1.0\n",
       "7        A2ZHWRBQ8O3L3I  B001GTT0VO     3.0\n",
       "8        A2C57VMBSDKO8M  B005CT56F8     4.0\n",
       "9        A3EBYB4OJSYL5M  B005ES0YYA     5.0\n",
       "...                 ...         ...     ...\n",
       "1564884  A1QFNFM3VXCIH1  B003NR57BY     5.0\n",
       "1564887  A13H8I9FHQTIDH  B0009RGLSE     5.0\n",
       "1564888  A2D333TODX15EN  B006JH8T3S     5.0\n",
       "1564891  A3BXSUNEVAFAGF  B000NMFCIA     5.0\n",
       "1564895  A23WZQWESCM61D  B0031GGQC6     1.0\n",
       "\n",
       "[641195 rows x 3 columns]"
      ]
     },
     "execution_count": 21,
     "metadata": {},
     "output_type": "execute_result"
    }
   ],
   "source": [
    "#products which had got  more than 50 reviews\n",
    "data = sample_data.groupby('ProductId').filter(lambda x:x['rating'].count() >= 50)\n",
    "data"
   ]
  },
  {
   "cell_type": "code",
   "execution_count": 22,
   "id": "9a3d0e7a",
   "metadata": {},
   "outputs": [],
   "source": [
    "no_of_ratings_per_product = data.groupby('ProductId')['rating'].count().sort_values(ascending=False)"
   ]
  },
  {
   "cell_type": "code",
   "execution_count": 23,
   "id": "35fe4365",
   "metadata": {},
   "outputs": [
    {
     "data": {
      "text/plain": [
       "ProductId\n",
       "B0074BW614    3654\n",
       "B00DR0PDNE    3373\n",
       "B007WTAJTO    2902\n",
       "B006GWO5WK    2506\n",
       "B0019EHU8G    2495\n",
       "              ... \n",
       "B001UE6N6A      50\n",
       "B0077V88VI      50\n",
       "B000UY1OMY      50\n",
       "B0011ZK6OS      50\n",
       "B00378YPB2      50\n",
       "Name: rating, Length: 4780, dtype: int64"
      ]
     },
     "execution_count": 23,
     "metadata": {},
     "output_type": "execute_result"
    }
   ],
   "source": [
    "no_of_ratings_per_product #pandas series.."
   ]
  },
  {
   "cell_type": "markdown",
   "id": "96db69cd",
   "metadata": {},
   "source": [
    "as u see B0074BW614 this product had got 3582 ratings in total..thus you can conclude that this product has gained more popularity  so u can recommend it 'new user'..thus now our s/wbecome popularity based recommendation system"
   ]
  },
  {
   "cell_type": "markdown",
   "id": "8c915078",
   "metadata": {},
   "source": [
    "#TOP 10 products which had gained more popularity"
   ]
  },
  {
   "cell_type": "code",
   "execution_count": 24,
   "id": "33c91ea8",
   "metadata": {},
   "outputs": [
    {
     "data": {
      "text/plain": [
       "Text(0.5, 1.0, 'top 10 records')"
      ]
     },
     "execution_count": 24,
     "metadata": {},
     "output_type": "execute_result"
    },
    {
     "data": {
      "image/png": "[encoded data removed]",
      "text/plain": [
       "<Figure size 640x480 with 1 Axes>"
      ]
     },
     "metadata": {},
     "output_type": "display_data"
    }
   ],
   "source": [
    "no_of_ratings_per_product.head(10).plot(kind='bar')\n",
    "plt.xlabel('ProductId')\n",
    "plt.ylabel('no of ratings')\n",
    "plt.title('top 10 records')"
   ]
  },
  {
   "cell_type": "code",
   "execution_count": 25,
   "id": "43e8c963",
   "metadata": {},
   "outputs": [
    {
     "data": {
      "text/html": [
       "<div>\n",
       "<style scoped>\n",
       "    .dataframe tbody tr th:only-of-type {\n",
       "        vertical-align: middle;\n",
       "    }\n",
       "\n",
       "    .dataframe tbody tr th {\n",
       "        vertical-align: top;\n",
       "    }\n",
       "\n",
       "    .dataframe thead th {\n",
       "        text-align: right;\n",
       "    }\n",
       "</style>\n",
       "<table border=\"1\" class=\"dataframe\">\n",
       "  <thead>\n",
       "    <tr style=\"text-align: right;\">\n",
       "      <th></th>\n",
       "      <th>rating</th>\n",
       "    </tr>\n",
       "    <tr>\n",
       "      <th>ProductId</th>\n",
       "      <th></th>\n",
       "    </tr>\n",
       "  </thead>\n",
       "  <tbody>\n",
       "    <tr>\n",
       "      <th>0972683275</th>\n",
       "      <td>4.528926</td>\n",
       "    </tr>\n",
       "    <tr>\n",
       "      <th>1400501466</th>\n",
       "      <td>3.666667</td>\n",
       "    </tr>\n",
       "    <tr>\n",
       "      <th>1400532655</th>\n",
       "      <td>3.622222</td>\n",
       "    </tr>\n",
       "    <tr>\n",
       "      <th>140053271X</th>\n",
       "      <td>3.700000</td>\n",
       "    </tr>\n",
       "    <tr>\n",
       "      <th>1400599997</th>\n",
       "      <td>3.540000</td>\n",
       "    </tr>\n",
       "    <tr>\n",
       "      <th>...</th>\n",
       "      <td>...</td>\n",
       "    </tr>\n",
       "    <tr>\n",
       "      <th>B00I94IPTW</th>\n",
       "      <td>3.859375</td>\n",
       "    </tr>\n",
       "    <tr>\n",
       "      <th>B00IF0JAYE</th>\n",
       "      <td>3.760000</td>\n",
       "    </tr>\n",
       "    <tr>\n",
       "      <th>B00INNP5VU</th>\n",
       "      <td>3.945274</td>\n",
       "    </tr>\n",
       "    <tr>\n",
       "      <th>B00IVPU786</th>\n",
       "      <td>4.750000</td>\n",
       "    </tr>\n",
       "    <tr>\n",
       "      <th>B00IZBNQO8</th>\n",
       "      <td>4.232143</td>\n",
       "    </tr>\n",
       "  </tbody>\n",
       "</table>\n",
       "<p>4780 rows × 1 columns</p>\n",
       "</div>"
      ],
      "text/plain": [
       "              rating\n",
       "ProductId           \n",
       "0972683275  4.528926\n",
       "1400501466  3.666667\n",
       "1400532655  3.622222\n",
       "140053271X  3.700000\n",
       "1400599997  3.540000\n",
       "...              ...\n",
       "B00I94IPTW  3.859375\n",
       "B00IF0JAYE  3.760000\n",
       "B00INNP5VU  3.945274\n",
       "B00IVPU786  4.750000\n",
       "B00IZBNQO8  4.232143\n",
       "\n",
       "[4780 rows x 1 columns]"
      ]
     },
     "execution_count": 25,
     "metadata": {},
     "output_type": "execute_result"
    }
   ],
   "source": [
    "#Avg rating per product\n",
    "avg_rating_per_product = pd.DataFrame(data.groupby('ProductId')['rating'].mean())\n",
    "avg_rating_per_product"
   ]
  },
  {
   "cell_type": "code",
   "execution_count": 26,
   "id": "fc2bf941",
   "metadata": {},
   "outputs": [
    {
     "data": {
      "image/png": "[encoded data removed]",
      "text/plain": [
       "<Figure size 640x480 with 1 Axes>"
      ]
     },
     "metadata": {},
     "output_type": "display_data"
    }
   ],
   "source": [
    "plt.hist(avg_rating_per_product['rating'],bins=100)\n",
    "plt.title('AVg rating distribution per product')\n",
    "plt.xlabel('Rating')\n",
    "plt.ylabel('Count')\n",
    "plt.show()\n",
    "\n",
    "#3.8 - 4.8  is most of the rating"
   ]
  },
  {
   "cell_type": "code",
   "execution_count": 27,
   "id": "f1e6c8a1",
   "metadata": {},
   "outputs": [
    {
     "data": {
      "text/plain": [
       "-0.9445428671317715"
      ]
     },
     "execution_count": 27,
     "metadata": {},
     "output_type": "execute_result"
    }
   ],
   "source": [
    "#checking the skewness of the mean rating data\n",
    "avg_rating_per_product['rating'].skew()"
   ]
  },
  {
   "cell_type": "code",
   "execution_count": 28,
   "id": "ac0e146e",
   "metadata": {},
   "outputs": [],
   "source": [
    "#as u see it is highly negative... OR we can say LEFT skewed distribution..."
   ]
  },
  {
   "cell_type": "code",
   "execution_count": 29,
   "id": "21ca9807",
   "metadata": {},
   "outputs": [
    {
     "data": {
      "text/html": [
       "<div>\n",
       "<style scoped>\n",
       "    .dataframe tbody tr th:only-of-type {\n",
       "        vertical-align: middle;\n",
       "    }\n",
       "\n",
       "    .dataframe tbody tr th {\n",
       "        vertical-align: top;\n",
       "    }\n",
       "\n",
       "    .dataframe thead th {\n",
       "        text-align: right;\n",
       "    }\n",
       "</style>\n",
       "<table border=\"1\" class=\"dataframe\">\n",
       "  <thead>\n",
       "    <tr style=\"text-align: right;\">\n",
       "      <th></th>\n",
       "      <th>rating</th>\n",
       "      <th>rating_counts</th>\n",
       "    </tr>\n",
       "    <tr>\n",
       "      <th>ProductId</th>\n",
       "      <th></th>\n",
       "      <th></th>\n",
       "    </tr>\n",
       "  </thead>\n",
       "  <tbody>\n",
       "    <tr>\n",
       "      <th>0972683275</th>\n",
       "      <td>4.528926</td>\n",
       "      <td>242</td>\n",
       "    </tr>\n",
       "    <tr>\n",
       "      <th>1400501466</th>\n",
       "      <td>3.666667</td>\n",
       "      <td>54</td>\n",
       "    </tr>\n",
       "    <tr>\n",
       "      <th>1400532655</th>\n",
       "      <td>3.622222</td>\n",
       "      <td>90</td>\n",
       "    </tr>\n",
       "    <tr>\n",
       "      <th>140053271X</th>\n",
       "      <td>3.700000</td>\n",
       "      <td>90</td>\n",
       "    </tr>\n",
       "    <tr>\n",
       "      <th>1400599997</th>\n",
       "      <td>3.540000</td>\n",
       "      <td>50</td>\n",
       "    </tr>\n",
       "    <tr>\n",
       "      <th>...</th>\n",
       "      <td>...</td>\n",
       "      <td>...</td>\n",
       "    </tr>\n",
       "    <tr>\n",
       "      <th>B00I94IPTW</th>\n",
       "      <td>3.859375</td>\n",
       "      <td>64</td>\n",
       "    </tr>\n",
       "    <tr>\n",
       "      <th>B00IF0JAYE</th>\n",
       "      <td>3.760000</td>\n",
       "      <td>50</td>\n",
       "    </tr>\n",
       "    <tr>\n",
       "      <th>B00INNP5VU</th>\n",
       "      <td>3.945274</td>\n",
       "      <td>201</td>\n",
       "    </tr>\n",
       "    <tr>\n",
       "      <th>B00IVPU786</th>\n",
       "      <td>4.750000</td>\n",
       "      <td>96</td>\n",
       "    </tr>\n",
       "    <tr>\n",
       "      <th>B00IZBNQO8</th>\n",
       "      <td>4.232143</td>\n",
       "      <td>56</td>\n",
       "    </tr>\n",
       "  </tbody>\n",
       "</table>\n",
       "<p>4780 rows × 2 columns</p>\n",
       "</div>"
      ],
      "text/plain": [
       "              rating  rating_counts\n",
       "ProductId                          \n",
       "0972683275  4.528926            242\n",
       "1400501466  3.666667             54\n",
       "1400532655  3.622222             90\n",
       "140053271X  3.700000             90\n",
       "1400599997  3.540000             50\n",
       "...              ...            ...\n",
       "B00I94IPTW  3.859375             64\n",
       "B00IF0JAYE  3.760000             50\n",
       "B00INNP5VU  3.945274            201\n",
       "B00IVPU786  4.750000             96\n",
       "B00IZBNQO8  4.232143             56\n",
       "\n",
       "[4780 rows x 2 columns]"
      ]
     },
     "execution_count": 29,
     "metadata": {},
     "output_type": "execute_result"
    }
   ],
   "source": [
    "avg_rating_per_product['rating_counts'] = pd.DataFrame(data.groupby('ProductId')['rating'].count())\n",
    "avg_rating_per_product"
   ]
  },
  {
   "cell_type": "code",
   "execution_count": 30,
   "id": "bacbc32a",
   "metadata": {},
   "outputs": [
    {
     "data": {
      "text/html": [
       "<div>\n",
       "<style scoped>\n",
       "    .dataframe tbody tr th:only-of-type {\n",
       "        vertical-align: middle;\n",
       "    }\n",
       "\n",
       "    .dataframe tbody tr th {\n",
       "        vertical-align: top;\n",
       "    }\n",
       "\n",
       "    .dataframe thead th {\n",
       "        text-align: right;\n",
       "    }\n",
       "</style>\n",
       "<table border=\"1\" class=\"dataframe\">\n",
       "  <thead>\n",
       "    <tr style=\"text-align: right;\">\n",
       "      <th></th>\n",
       "      <th>rating</th>\n",
       "      <th>rating_counts</th>\n",
       "    </tr>\n",
       "    <tr>\n",
       "      <th>ProductId</th>\n",
       "      <th></th>\n",
       "      <th></th>\n",
       "    </tr>\n",
       "  </thead>\n",
       "  <tbody>\n",
       "    <tr>\n",
       "      <th>B004NPH7BI</th>\n",
       "      <td>4.981818</td>\n",
       "      <td>55</td>\n",
       "    </tr>\n",
       "  </tbody>\n",
       "</table>\n",
       "</div>"
      ],
      "text/plain": [
       "              rating  rating_counts\n",
       "ProductId                          \n",
       "B004NPH7BI  4.981818             55"
      ]
     },
     "execution_count": 30,
     "metadata": {},
     "output_type": "execute_result"
    }
   ],
   "source": [
    "#highest avg rating product\n",
    "avg_rating_per_product[avg_rating_per_product['rating'] == avg_rating_per_product['rating'].max()]"
   ]
  },
  {
   "cell_type": "code",
   "execution_count": 31,
   "id": "123311a5",
   "metadata": {},
   "outputs": [
    {
     "data": {
      "text/html": [
       "<div>\n",
       "<style scoped>\n",
       "    .dataframe tbody tr th:only-of-type {\n",
       "        vertical-align: middle;\n",
       "    }\n",
       "\n",
       "    .dataframe tbody tr th {\n",
       "        vertical-align: top;\n",
       "    }\n",
       "\n",
       "    .dataframe thead th {\n",
       "        text-align: right;\n",
       "    }\n",
       "</style>\n",
       "<table border=\"1\" class=\"dataframe\">\n",
       "  <thead>\n",
       "    <tr style=\"text-align: right;\">\n",
       "      <th></th>\n",
       "      <th>rating</th>\n",
       "      <th>rating_counts</th>\n",
       "    </tr>\n",
       "    <tr>\n",
       "      <th>ProductId</th>\n",
       "      <th></th>\n",
       "      <th></th>\n",
       "    </tr>\n",
       "  </thead>\n",
       "  <tbody>\n",
       "    <tr>\n",
       "      <th>B0074BW614</th>\n",
       "      <td>4.499453</td>\n",
       "      <td>3654</td>\n",
       "    </tr>\n",
       "  </tbody>\n",
       "</table>\n",
       "</div>"
      ],
      "text/plain": [
       "              rating  rating_counts\n",
       "ProductId                          \n",
       "B0074BW614  4.499453           3654"
      ]
     },
     "execution_count": 31,
     "metadata": {},
     "output_type": "execute_result"
    }
   ],
   "source": [
    "#highest no of rating_counts got product\n",
    "avg_rating_per_product[avg_rating_per_product['rating_counts'] == avg_rating_per_product['rating_counts'].max()]"
   ]
  },
  {
   "cell_type": "code",
   "execution_count": 32,
   "id": "ae75091d",
   "metadata": {},
   "outputs": [
    {
     "name": "stdout",
     "output_type": "stream",
     "text": [
      "0.11360867138662482\n"
     ]
    }
   ],
   "source": [
    "#correlation b/n rating and rating_counts\n",
    "print(avg_rating_per_product['rating'].corr(avg_rating_per_product['rating_counts']))\n",
    "#weak correlation....ie;barely related,,,or less related"
   ]
  },
  {
   "cell_type": "markdown",
   "id": "0f04b9ee",
   "metadata": {},
   "source": [
    "# 1) Collaberative Filtering(CF)(Item-Item)"
   ]
  },
  {
   "cell_type": "markdown",
   "id": "84870110",
   "metadata": {},
   "source": [
    "These technique aim to fill in the missing enteries of user-item association matrix....we are using CF approaches.\n",
    "CF is based on the idea that the best recommendation come from people who have similar tastes...in other words,it uses historical item ratings of like-minded people to predict how someone would rate an item.."
   ]
  },
  {
   "cell_type": "raw",
   "id": "6f5bc35f",
   "metadata": {},
   "source": [
    "1)memory based approach (surprise library)\n",
    "2)model based approach (ML model) --->preffered one"
   ]
  },
  {
   "cell_type": "markdown",
   "id": "9ed30bd3",
   "metadata": {},
   "source": [
    "2)model based approach -> for ex we would use existing user item interaction to train model to predict the top5 items that user may like the most.."
   ]
  },
  {
   "cell_type": "code",
   "execution_count": 3,
   "id": "4fd02607",
   "metadata": {},
   "outputs": [],
   "source": [
    "from sklearn.metrics.pairwise import cosine_similarity"
   ]
  },
  {
   "cell_type": "code",
   "execution_count": 2,
   "id": "7e322cd1",
   "metadata": {},
   "outputs": [],
   "source": [
    "df = pd.read_csv(r\"D:\\PROJECTS\\amazon_recommendation_engine\\ratings_Electronics.csv\",names=['userId','ProductId','rating','timestamp'])\n",
    "df.drop(columns=['timestamp'],inplace=True)\n",
    "df = df.iloc[:10000,:]"
   ]
  },
  {
   "cell_type": "code",
   "execution_count": 4,
   "id": "12641148",
   "metadata": {},
   "outputs": [],
   "source": [
    "# df = df.iloc[:10000,:]#bcz my system cant handle 7 million (above i have considered 1564896 row samples ) of data at once and ot is giving error while executing #Create user-item matrix\n",
    "# # user_item_matrix = df.pivot_table(index='userId',columns='ProductId',values='rating').fillna(0) this line so iave reduced the size of dataset\n",
    "# #so i have cosidered only 10k rows data out of 7 million data points/rows..\n",
    "\n",
    "# #selecting first 10k rows for further operation.."
   ]
  },
  {
   "cell_type": "code",
   "execution_count": 4,
   "id": "bcead88d",
   "metadata": {},
   "outputs": [
    {
     "data": {
      "text/plain": [
       "174"
      ]
     },
     "execution_count": 4,
     "metadata": {},
     "output_type": "execute_result"
    }
   ],
   "source": [
    "df['userId'].duplicated().sum()#ie; productId and userID together forms a Primary key of the table/dataset..\n",
    "#VVVVVVVVVVVIIIIIMPPPPPPPPPP\n",
    "#bcz userId and productID repeating ,,but in combine they are unique..\n",
    "#ie;any user can give rate to any no of (may be ALL) products,,but any user cant give rate 2 times on any of the single products..thats why we are saying userId and productID together forms a primary key of above dataset..\n",
    "#thats why there are duplicates in userId ,,ie;single user has given ratings for more than 1 products.."
   ]
  },
  {
   "cell_type": "code",
   "execution_count": 5,
   "id": "3f4a6ef0",
   "metadata": {},
   "outputs": [
    {
     "data": {
      "text/plain": [
       "8695"
      ]
     },
     "execution_count": 5,
     "metadata": {},
     "output_type": "execute_result"
    }
   ],
   "source": [
    "df['ProductId'].duplicated().sum()\n",
    "#in 10k sample of rows there are repated product..bcz more than 1 user has given a rating to same products"
   ]
  },
  {
   "cell_type": "code",
   "execution_count": 6,
   "id": "f813d1e7",
   "metadata": {},
   "outputs": [
    {
     "data": {
      "text/plain": [
       "0"
      ]
     },
     "execution_count": 6,
     "metadata": {},
     "output_type": "execute_result"
    }
   ],
   "source": [
    "df[['userId','ProductId']].duplicated().sum()"
   ]
  },
  {
   "cell_type": "code",
   "execution_count": 7,
   "id": "497a57af",
   "metadata": {},
   "outputs": [],
   "source": [
    "#see both together doesnt have any duplicates,,thus it is obeying PK rule......"
   ]
  },
  {
   "cell_type": "markdown",
   "id": "f63138ee",
   "metadata": {},
   "source": [
    "so we can conclude that,,after selecting 10000 rows from dataset for user-item matrix we are not getting (UserId)10000x10000(productId),,bcz useriD and productID are repeatinf.......thats why we got  (userID)9826 rows × (ProductID)1305 columns\n"
   ]
  },
  {
   "cell_type": "code",
   "execution_count": 8,
   "id": "4d32e9a6",
   "metadata": {},
   "outputs": [
    {
     "data": {
      "text/html": [
       "<div>\n",
       "<style scoped>\n",
       "    .dataframe tbody tr th:only-of-type {\n",
       "        vertical-align: middle;\n",
       "    }\n",
       "\n",
       "    .dataframe tbody tr th {\n",
       "        vertical-align: top;\n",
       "    }\n",
       "\n",
       "    .dataframe thead th {\n",
       "        text-align: right;\n",
       "    }\n",
       "</style>\n",
       "<table border=\"1\" class=\"dataframe\">\n",
       "  <thead>\n",
       "    <tr style=\"text-align: right;\">\n",
       "      <th>ProductId</th>\n",
       "      <th>0132793040</th>\n",
       "      <th>0321732944</th>\n",
       "      <th>0439886341</th>\n",
       "      <th>0511189877</th>\n",
       "      <th>0528881469</th>\n",
       "      <th>0558835155</th>\n",
       "      <th>059400232X</th>\n",
       "      <th>0594012015</th>\n",
       "      <th>0594017343</th>\n",
       "      <th>0594017580</th>\n",
       "      <th>...</th>\n",
       "      <th>B00000J1DN</th>\n",
       "      <th>B00000J1DT</th>\n",
       "      <th>B00000J1E6</th>\n",
       "      <th>B00000J1EC</th>\n",
       "      <th>B00000J1EJ</th>\n",
       "      <th>B00000J1EP</th>\n",
       "      <th>B00000J1EQ</th>\n",
       "      <th>B00000J1ES</th>\n",
       "      <th>B00000J1EZ</th>\n",
       "      <th>B00000J1F3</th>\n",
       "    </tr>\n",
       "    <tr>\n",
       "      <th>userId</th>\n",
       "      <th></th>\n",
       "      <th></th>\n",
       "      <th></th>\n",
       "      <th></th>\n",
       "      <th></th>\n",
       "      <th></th>\n",
       "      <th></th>\n",
       "      <th></th>\n",
       "      <th></th>\n",
       "      <th></th>\n",
       "      <th></th>\n",
       "      <th></th>\n",
       "      <th></th>\n",
       "      <th></th>\n",
       "      <th></th>\n",
       "      <th></th>\n",
       "      <th></th>\n",
       "      <th></th>\n",
       "      <th></th>\n",
       "      <th></th>\n",
       "      <th></th>\n",
       "    </tr>\n",
       "  </thead>\n",
       "  <tbody>\n",
       "    <tr>\n",
       "      <th>A00766851QZZUBOVF4JFT</th>\n",
       "      <td>0.0</td>\n",
       "      <td>0.0</td>\n",
       "      <td>0.0</td>\n",
       "      <td>0.0</td>\n",
       "      <td>0.0</td>\n",
       "      <td>0.0</td>\n",
       "      <td>0.0</td>\n",
       "      <td>0.0</td>\n",
       "      <td>0.0</td>\n",
       "      <td>0.0</td>\n",
       "      <td>...</td>\n",
       "      <td>0.0</td>\n",
       "      <td>0.0</td>\n",
       "      <td>0.0</td>\n",
       "      <td>0.0</td>\n",
       "      <td>0.0</td>\n",
       "      <td>0.0</td>\n",
       "      <td>0.0</td>\n",
       "      <td>0.0</td>\n",
       "      <td>0.0</td>\n",
       "      <td>0.0</td>\n",
       "    </tr>\n",
       "    <tr>\n",
       "      <th>A01255851ZO1U93P8RKGE</th>\n",
       "      <td>0.0</td>\n",
       "      <td>0.0</td>\n",
       "      <td>0.0</td>\n",
       "      <td>0.0</td>\n",
       "      <td>0.0</td>\n",
       "      <td>0.0</td>\n",
       "      <td>0.0</td>\n",
       "      <td>0.0</td>\n",
       "      <td>0.0</td>\n",
       "      <td>0.0</td>\n",
       "      <td>...</td>\n",
       "      <td>0.0</td>\n",
       "      <td>0.0</td>\n",
       "      <td>0.0</td>\n",
       "      <td>0.0</td>\n",
       "      <td>0.0</td>\n",
       "      <td>0.0</td>\n",
       "      <td>0.0</td>\n",
       "      <td>0.0</td>\n",
       "      <td>0.0</td>\n",
       "      <td>0.0</td>\n",
       "    </tr>\n",
       "    <tr>\n",
       "      <th>A0293130VTX2ZXA70JQS</th>\n",
       "      <td>0.0</td>\n",
       "      <td>0.0</td>\n",
       "      <td>0.0</td>\n",
       "      <td>0.0</td>\n",
       "      <td>0.0</td>\n",
       "      <td>0.0</td>\n",
       "      <td>0.0</td>\n",
       "      <td>0.0</td>\n",
       "      <td>0.0</td>\n",
       "      <td>0.0</td>\n",
       "      <td>...</td>\n",
       "      <td>0.0</td>\n",
       "      <td>0.0</td>\n",
       "      <td>0.0</td>\n",
       "      <td>0.0</td>\n",
       "      <td>0.0</td>\n",
       "      <td>0.0</td>\n",
       "      <td>0.0</td>\n",
       "      <td>0.0</td>\n",
       "      <td>0.0</td>\n",
       "      <td>0.0</td>\n",
       "    </tr>\n",
       "    <tr>\n",
       "      <th>A030530627MK66BD8V4LN</th>\n",
       "      <td>0.0</td>\n",
       "      <td>0.0</td>\n",
       "      <td>0.0</td>\n",
       "      <td>0.0</td>\n",
       "      <td>0.0</td>\n",
       "      <td>0.0</td>\n",
       "      <td>0.0</td>\n",
       "      <td>0.0</td>\n",
       "      <td>0.0</td>\n",
       "      <td>0.0</td>\n",
       "      <td>...</td>\n",
       "      <td>0.0</td>\n",
       "      <td>0.0</td>\n",
       "      <td>0.0</td>\n",
       "      <td>0.0</td>\n",
       "      <td>0.0</td>\n",
       "      <td>0.0</td>\n",
       "      <td>0.0</td>\n",
       "      <td>0.0</td>\n",
       "      <td>0.0</td>\n",
       "      <td>0.0</td>\n",
       "    </tr>\n",
       "    <tr>\n",
       "      <th>A0402564TCEO67AUZFJO</th>\n",
       "      <td>0.0</td>\n",
       "      <td>0.0</td>\n",
       "      <td>0.0</td>\n",
       "      <td>0.0</td>\n",
       "      <td>0.0</td>\n",
       "      <td>0.0</td>\n",
       "      <td>0.0</td>\n",
       "      <td>0.0</td>\n",
       "      <td>0.0</td>\n",
       "      <td>0.0</td>\n",
       "      <td>...</td>\n",
       "      <td>0.0</td>\n",
       "      <td>0.0</td>\n",
       "      <td>0.0</td>\n",
       "      <td>0.0</td>\n",
       "      <td>0.0</td>\n",
       "      <td>0.0</td>\n",
       "      <td>0.0</td>\n",
       "      <td>0.0</td>\n",
       "      <td>0.0</td>\n",
       "      <td>0.0</td>\n",
       "    </tr>\n",
       "  </tbody>\n",
       "</table>\n",
       "<p>5 rows × 1305 columns</p>\n",
       "</div>"
      ],
      "text/plain": [
       "ProductId              0132793040  0321732944  0439886341  0511189877  \\\n",
       "userId                                                                  \n",
       "A00766851QZZUBOVF4JFT         0.0         0.0         0.0         0.0   \n",
       "A01255851ZO1U93P8RKGE         0.0         0.0         0.0         0.0   \n",
       "A0293130VTX2ZXA70JQS          0.0         0.0         0.0         0.0   \n",
       "A030530627MK66BD8V4LN         0.0         0.0         0.0         0.0   \n",
       "A0402564TCEO67AUZFJO          0.0         0.0         0.0         0.0   \n",
       "\n",
       "ProductId              0528881469  0558835155  059400232X  0594012015  \\\n",
       "userId                                                                  \n",
       "A00766851QZZUBOVF4JFT         0.0         0.0         0.0         0.0   \n",
       "A01255851ZO1U93P8RKGE         0.0         0.0         0.0         0.0   \n",
       "A0293130VTX2ZXA70JQS          0.0         0.0         0.0         0.0   \n",
       "A030530627MK66BD8V4LN         0.0         0.0         0.0         0.0   \n",
       "A0402564TCEO67AUZFJO          0.0         0.0         0.0         0.0   \n",
       "\n",
       "ProductId              0594017343  0594017580  ...  B00000J1DN  B00000J1DT  \\\n",
       "userId                                         ...                           \n",
       "A00766851QZZUBOVF4JFT         0.0         0.0  ...         0.0         0.0   \n",
       "A01255851ZO1U93P8RKGE         0.0         0.0  ...         0.0         0.0   \n",
       "A0293130VTX2ZXA70JQS          0.0         0.0  ...         0.0         0.0   \n",
       "A030530627MK66BD8V4LN         0.0         0.0  ...         0.0         0.0   \n",
       "A0402564TCEO67AUZFJO          0.0         0.0  ...         0.0         0.0   \n",
       "\n",
       "ProductId              B00000J1E6  B00000J1EC  B00000J1EJ  B00000J1EP  \\\n",
       "userId                                                                  \n",
       "A00766851QZZUBOVF4JFT         0.0         0.0         0.0         0.0   \n",
       "A01255851ZO1U93P8RKGE         0.0         0.0         0.0         0.0   \n",
       "A0293130VTX2ZXA70JQS          0.0         0.0         0.0         0.0   \n",
       "A030530627MK66BD8V4LN         0.0         0.0         0.0         0.0   \n",
       "A0402564TCEO67AUZFJO          0.0         0.0         0.0         0.0   \n",
       "\n",
       "ProductId              B00000J1EQ  B00000J1ES  B00000J1EZ  B00000J1F3  \n",
       "userId                                                                 \n",
       "A00766851QZZUBOVF4JFT         0.0         0.0         0.0         0.0  \n",
       "A01255851ZO1U93P8RKGE         0.0         0.0         0.0         0.0  \n",
       "A0293130VTX2ZXA70JQS          0.0         0.0         0.0         0.0  \n",
       "A030530627MK66BD8V4LN         0.0         0.0         0.0         0.0  \n",
       "A0402564TCEO67AUZFJO          0.0         0.0         0.0         0.0  \n",
       "\n",
       "[5 rows x 1305 columns]"
      ]
     },
     "execution_count": 8,
     "metadata": {},
     "output_type": "execute_result"
    }
   ],
   "source": [
    "rating_matrix = df.pivot_table(index='userId',columns='ProductId',values='rating').fillna(0)\n",
    "rating_matrix.head()#user_user_rating_matrix"
   ]
  },
  {
   "cell_type": "code",
   "execution_count": 9,
   "id": "898ec3f5",
   "metadata": {},
   "outputs": [
    {
     "data": {
      "text/plain": [
       "(9826, 1305)"
      ]
     },
     "execution_count": 9,
     "metadata": {},
     "output_type": "execute_result"
    }
   ],
   "source": [
    "rating_matrix.shape"
   ]
  },
  {
   "cell_type": "code",
   "execution_count": 10,
   "id": "c19dfd7c",
   "metadata": {},
   "outputs": [
    {
     "data": {
      "text/html": [
       "<div>\n",
       "<style scoped>\n",
       "    .dataframe tbody tr th:only-of-type {\n",
       "        vertical-align: middle;\n",
       "    }\n",
       "\n",
       "    .dataframe tbody tr th {\n",
       "        vertical-align: top;\n",
       "    }\n",
       "\n",
       "    .dataframe thead th {\n",
       "        text-align: right;\n",
       "    }\n",
       "</style>\n",
       "<table border=\"1\" class=\"dataframe\">\n",
       "  <thead>\n",
       "    <tr style=\"text-align: right;\">\n",
       "      <th>userId</th>\n",
       "      <th>A00766851QZZUBOVF4JFT</th>\n",
       "      <th>A01255851ZO1U93P8RKGE</th>\n",
       "      <th>A0293130VTX2ZXA70JQS</th>\n",
       "      <th>A030530627MK66BD8V4LN</th>\n",
       "      <th>A0402564TCEO67AUZFJO</th>\n",
       "      <th>A04256643L1ZMT75HVD2P</th>\n",
       "      <th>A0590501PZ7HOWJKBGQ4</th>\n",
       "      <th>A0641581307AKT5MAOU0Q</th>\n",
       "      <th>A076219533YHEV2LJO988</th>\n",
       "      <th>A07865442XT0VEAVPSGX1</th>\n",
       "      <th>...</th>\n",
       "      <th>AZV9WA9MNT0FB</th>\n",
       "      <th>AZX0ZDVAFMN78</th>\n",
       "      <th>AZX5LAN9JEAFF</th>\n",
       "      <th>AZX7I110AF0W2</th>\n",
       "      <th>AZXFQVG0PS3V1</th>\n",
       "      <th>AZYNQZ94U6VDB</th>\n",
       "      <th>AZYTSU42BZ7TP</th>\n",
       "      <th>AZZ77XYX8O2WE</th>\n",
       "      <th>AZZGUU97OHUF1</th>\n",
       "      <th>AZZMV5VT9W7Y8</th>\n",
       "    </tr>\n",
       "    <tr>\n",
       "      <th>ProductId</th>\n",
       "      <th></th>\n",
       "      <th></th>\n",
       "      <th></th>\n",
       "      <th></th>\n",
       "      <th></th>\n",
       "      <th></th>\n",
       "      <th></th>\n",
       "      <th></th>\n",
       "      <th></th>\n",
       "      <th></th>\n",
       "      <th></th>\n",
       "      <th></th>\n",
       "      <th></th>\n",
       "      <th></th>\n",
       "      <th></th>\n",
       "      <th></th>\n",
       "      <th></th>\n",
       "      <th></th>\n",
       "      <th></th>\n",
       "      <th></th>\n",
       "      <th></th>\n",
       "    </tr>\n",
       "  </thead>\n",
       "  <tbody>\n",
       "    <tr>\n",
       "      <th>0132793040</th>\n",
       "      <td>0.0</td>\n",
       "      <td>0.0</td>\n",
       "      <td>0.0</td>\n",
       "      <td>0.0</td>\n",
       "      <td>0.0</td>\n",
       "      <td>0.0</td>\n",
       "      <td>0.0</td>\n",
       "      <td>0.0</td>\n",
       "      <td>0.0</td>\n",
       "      <td>0.0</td>\n",
       "      <td>...</td>\n",
       "      <td>0.0</td>\n",
       "      <td>0.0</td>\n",
       "      <td>0.0</td>\n",
       "      <td>0.0</td>\n",
       "      <td>0.0</td>\n",
       "      <td>0.0</td>\n",
       "      <td>0.0</td>\n",
       "      <td>0.0</td>\n",
       "      <td>0.0</td>\n",
       "      <td>0.0</td>\n",
       "    </tr>\n",
       "    <tr>\n",
       "      <th>0321732944</th>\n",
       "      <td>0.0</td>\n",
       "      <td>0.0</td>\n",
       "      <td>0.0</td>\n",
       "      <td>0.0</td>\n",
       "      <td>0.0</td>\n",
       "      <td>0.0</td>\n",
       "      <td>0.0</td>\n",
       "      <td>0.0</td>\n",
       "      <td>0.0</td>\n",
       "      <td>0.0</td>\n",
       "      <td>...</td>\n",
       "      <td>0.0</td>\n",
       "      <td>0.0</td>\n",
       "      <td>0.0</td>\n",
       "      <td>0.0</td>\n",
       "      <td>0.0</td>\n",
       "      <td>0.0</td>\n",
       "      <td>0.0</td>\n",
       "      <td>0.0</td>\n",
       "      <td>0.0</td>\n",
       "      <td>0.0</td>\n",
       "    </tr>\n",
       "    <tr>\n",
       "      <th>0439886341</th>\n",
       "      <td>0.0</td>\n",
       "      <td>0.0</td>\n",
       "      <td>0.0</td>\n",
       "      <td>0.0</td>\n",
       "      <td>0.0</td>\n",
       "      <td>0.0</td>\n",
       "      <td>0.0</td>\n",
       "      <td>0.0</td>\n",
       "      <td>0.0</td>\n",
       "      <td>0.0</td>\n",
       "      <td>...</td>\n",
       "      <td>0.0</td>\n",
       "      <td>0.0</td>\n",
       "      <td>0.0</td>\n",
       "      <td>0.0</td>\n",
       "      <td>0.0</td>\n",
       "      <td>0.0</td>\n",
       "      <td>0.0</td>\n",
       "      <td>0.0</td>\n",
       "      <td>0.0</td>\n",
       "      <td>0.0</td>\n",
       "    </tr>\n",
       "    <tr>\n",
       "      <th>0511189877</th>\n",
       "      <td>0.0</td>\n",
       "      <td>0.0</td>\n",
       "      <td>0.0</td>\n",
       "      <td>0.0</td>\n",
       "      <td>0.0</td>\n",
       "      <td>0.0</td>\n",
       "      <td>0.0</td>\n",
       "      <td>0.0</td>\n",
       "      <td>0.0</td>\n",
       "      <td>0.0</td>\n",
       "      <td>...</td>\n",
       "      <td>0.0</td>\n",
       "      <td>0.0</td>\n",
       "      <td>0.0</td>\n",
       "      <td>0.0</td>\n",
       "      <td>0.0</td>\n",
       "      <td>5.0</td>\n",
       "      <td>0.0</td>\n",
       "      <td>0.0</td>\n",
       "      <td>0.0</td>\n",
       "      <td>0.0</td>\n",
       "    </tr>\n",
       "    <tr>\n",
       "      <th>0528881469</th>\n",
       "      <td>0.0</td>\n",
       "      <td>0.0</td>\n",
       "      <td>0.0</td>\n",
       "      <td>0.0</td>\n",
       "      <td>0.0</td>\n",
       "      <td>0.0</td>\n",
       "      <td>0.0</td>\n",
       "      <td>0.0</td>\n",
       "      <td>0.0</td>\n",
       "      <td>0.0</td>\n",
       "      <td>...</td>\n",
       "      <td>0.0</td>\n",
       "      <td>0.0</td>\n",
       "      <td>0.0</td>\n",
       "      <td>0.0</td>\n",
       "      <td>0.0</td>\n",
       "      <td>0.0</td>\n",
       "      <td>0.0</td>\n",
       "      <td>0.0</td>\n",
       "      <td>0.0</td>\n",
       "      <td>0.0</td>\n",
       "    </tr>\n",
       "  </tbody>\n",
       "</table>\n",
       "<p>5 rows × 9826 columns</p>\n",
       "</div>"
      ],
      "text/plain": [
       "userId      A00766851QZZUBOVF4JFT  A01255851ZO1U93P8RKGE  \\\n",
       "ProductId                                                  \n",
       "0132793040                    0.0                    0.0   \n",
       "0321732944                    0.0                    0.0   \n",
       "0439886341                    0.0                    0.0   \n",
       "0511189877                    0.0                    0.0   \n",
       "0528881469                    0.0                    0.0   \n",
       "\n",
       "userId      A0293130VTX2ZXA70JQS  A030530627MK66BD8V4LN  A0402564TCEO67AUZFJO  \\\n",
       "ProductId                                                                       \n",
       "0132793040                   0.0                    0.0                   0.0   \n",
       "0321732944                   0.0                    0.0                   0.0   \n",
       "0439886341                   0.0                    0.0                   0.0   \n",
       "0511189877                   0.0                    0.0                   0.0   \n",
       "0528881469                   0.0                    0.0                   0.0   \n",
       "\n",
       "userId      A04256643L1ZMT75HVD2P  A0590501PZ7HOWJKBGQ4  \\\n",
       "ProductId                                                 \n",
       "0132793040                    0.0                   0.0   \n",
       "0321732944                    0.0                   0.0   \n",
       "0439886341                    0.0                   0.0   \n",
       "0511189877                    0.0                   0.0   \n",
       "0528881469                    0.0                   0.0   \n",
       "\n",
       "userId      A0641581307AKT5MAOU0Q  A076219533YHEV2LJO988  \\\n",
       "ProductId                                                  \n",
       "0132793040                    0.0                    0.0   \n",
       "0321732944                    0.0                    0.0   \n",
       "0439886341                    0.0                    0.0   \n",
       "0511189877                    0.0                    0.0   \n",
       "0528881469                    0.0                    0.0   \n",
       "\n",
       "userId      A07865442XT0VEAVPSGX1  ...  AZV9WA9MNT0FB  AZX0ZDVAFMN78  \\\n",
       "ProductId                          ...                                 \n",
       "0132793040                    0.0  ...            0.0            0.0   \n",
       "0321732944                    0.0  ...            0.0            0.0   \n",
       "0439886341                    0.0  ...            0.0            0.0   \n",
       "0511189877                    0.0  ...            0.0            0.0   \n",
       "0528881469                    0.0  ...            0.0            0.0   \n",
       "\n",
       "userId      AZX5LAN9JEAFF  AZX7I110AF0W2  AZXFQVG0PS3V1  AZYNQZ94U6VDB  \\\n",
       "ProductId                                                                \n",
       "0132793040            0.0            0.0            0.0            0.0   \n",
       "0321732944            0.0            0.0            0.0            0.0   \n",
       "0439886341            0.0            0.0            0.0            0.0   \n",
       "0511189877            0.0            0.0            0.0            5.0   \n",
       "0528881469            0.0            0.0            0.0            0.0   \n",
       "\n",
       "userId      AZYTSU42BZ7TP  AZZ77XYX8O2WE  AZZGUU97OHUF1  AZZMV5VT9W7Y8  \n",
       "ProductId                                                               \n",
       "0132793040            0.0            0.0            0.0            0.0  \n",
       "0321732944            0.0            0.0            0.0            0.0  \n",
       "0439886341            0.0            0.0            0.0            0.0  \n",
       "0511189877            0.0            0.0            0.0            0.0  \n",
       "0528881469            0.0            0.0            0.0            0.0  \n",
       "\n",
       "[5 rows x 9826 columns]"
      ]
     },
     "execution_count": 10,
     "metadata": {},
     "output_type": "execute_result"
    }
   ],
   "source": [
    "#BCZ we are doing item-item based collaberative recommendation system,,,we have to make productId as index and userId as columns...so make transpose\n",
    "item_item_rating_matrix = rating_matrix.T\n",
    "item_item_rating_matrix.head()"
   ]
  },
  {
   "cell_type": "code",
   "execution_count": 11,
   "id": "8f700799",
   "metadata": {},
   "outputs": [
    {
     "data": {
      "text/plain": [
       "(1305, 9826)"
      ]
     },
     "execution_count": 11,
     "metadata": {},
     "output_type": "execute_result"
    }
   ],
   "source": [
    "item_item_rating_matrix.shape#as u see transposed.."
   ]
  },
  {
   "cell_type": "code",
   "execution_count": 12,
   "id": "27fe2450",
   "metadata": {},
   "outputs": [],
   "source": [
    "#but as u see around 9k columns/features we can say ,,there in item_item_rating_matrix ,, and if u train cosine_similarity or any other ml model then,,training time going to increase\n",
    "#thus we have to reduce the dimensionality of complexity of data,,,,,PCA(principal componenent analysis) LDA ..etc used to reduce dimensionality of data,,but it is just for analysis...\n",
    "#for training purpose we want to decompose the dataset..."
   ]
  },
  {
   "cell_type": "code",
   "execution_count": 13,
   "id": "2bf76e2b",
   "metadata": {},
   "outputs": [
    {
     "data": {
      "text/plain": [
       "(1305, 10)"
      ]
     },
     "execution_count": 13,
     "metadata": {},
     "output_type": "execute_result"
    }
   ],
   "source": [
    "#decomposition of the matrix using single value decomposition technique\n",
    "from sklearn.decomposition import TruncatedSVD\n",
    "SVD = TruncatedSVD(n_components=10)#9826 is decomposed/transformed/reduced representation without changing actual info in to 10 features/columns\n",
    "decomposition_matrix = SVD.fit_transform(item_item_rating_matrix)\n",
    "decomposition_matrix.shape"
   ]
  },
  {
   "cell_type": "code",
   "execution_count": 14,
   "id": "c0618c0c",
   "metadata": {},
   "outputs": [
    {
     "data": {
      "text/plain": [
       "array([[-7.84271843e-17, -1.54161890e-14,  7.67065827e-14, ...,\n",
       "        -1.40842117e-12, -4.69704414e-12, -5.16699814e-12],\n",
       "       [-2.49988644e-16, -3.42569014e-14,  3.15675735e-14, ...,\n",
       "        -2.22595761e-12, -3.72520031e-12, -3.09389859e-12],\n",
       "       [ 1.55541092e-18,  1.01723079e-16, -5.72035759e-16, ...,\n",
       "         5.45662647e-14,  9.86368178e-14,  1.68392674e-14],\n",
       "       ...,\n",
       "       [ 6.63712733e-08, -2.56474769e-06,  1.85977563e-06, ...,\n",
       "        -5.40111317e-05, -1.97573044e-04,  1.35517024e-01],\n",
       "       [-1.15722405e-16,  4.55359288e-14, -5.06644997e-14, ...,\n",
       "         2.15969240e-12, -4.07174427e-12,  4.65379991e-12],\n",
       "       [ 1.03580271e-06,  1.49392319e-05, -1.18895076e-06, ...,\n",
       "        -3.30707070e-03,  2.62963873e-03,  1.45141522e+00]])"
      ]
     },
     "execution_count": 14,
     "metadata": {},
     "output_type": "execute_result"
    }
   ],
   "source": [
    "decomposition_matrix#9826 features are represnted in 10 features....ie;decomposition/transformation"
   ]
  },
  {
   "cell_type": "markdown",
   "id": "0d156c1c",
   "metadata": {},
   "source": [
    "# using correlation coeff ro derive similarity b/n items/products"
   ]
  },
  {
   "cell_type": "code",
   "execution_count": 15,
   "id": "3cb6755e",
   "metadata": {},
   "outputs": [
    {
     "data": {
      "text/plain": [
       "(1305, 1305)"
      ]
     },
     "execution_count": 15,
     "metadata": {},
     "output_type": "execute_result"
    }
   ],
   "source": [
    "#correlation matrix\n",
    "correlation_matrix = np.corrcoef(decomposition_matrix)\n",
    "correlation_matrix.shape\n",
    "#ie;establishing correlation coeff(-1 to 0 to  1)/relationship b/n each product......(bcz index is productId)\n",
    "#ProductId x ProductId based on ratings from userId\n",
    "#ie;corrrelation coeff is high b.n and 2 products that means,,,if user brought 1 item then it is most likely that he will purchase another product which is highly correlated."
   ]
  },
  {
   "cell_type": "code",
   "execution_count": 16,
   "id": "8dc5eaf1",
   "metadata": {},
   "outputs": [
    {
     "data": {
      "text/plain": [
       "array([[ 1.        ,  0.67919915, -0.6804766 , ..., -0.66976829,\n",
       "        -0.1496286 , -0.67146225],\n",
       "       [ 0.67919915,  1.        , -0.33976454, ..., -0.36999582,\n",
       "        -0.03811092, -0.37002057],\n",
       "       [-0.6804766 , -0.33976454,  1.        , ...,  0.05647907,\n",
       "        -0.30847575,  0.05957903],\n",
       "       ...,\n",
       "       [-0.66976829, -0.36999582,  0.05647907, ...,  1.        ,\n",
       "         0.70985599,  0.99998466],\n",
       "       [-0.1496286 , -0.03811092, -0.30847575, ...,  0.70985599,\n",
       "         1.        ,  0.7066259 ],\n",
       "       [-0.67146225, -0.37002057,  0.05957903, ...,  0.99998466,\n",
       "         0.7066259 ,  1.        ]])"
      ]
     },
     "execution_count": 16,
     "metadata": {},
     "output_type": "execute_result"
    }
   ],
   "source": [
    "correlation_matrix"
   ]
  },
  {
   "cell_type": "code",
   "execution_count": 17,
   "id": "96eb06a7",
   "metadata": {},
   "outputs": [],
   "source": [
    "#relationship b/n products is established,,,"
   ]
  },
  {
   "cell_type": "markdown",
   "id": "691edd2c",
   "metadata": {},
   "source": [
    "# suppose our new customer rated this product,,then we will recommend him products whic are highly correlated with this product.."
   ]
  },
  {
   "cell_type": "code",
   "execution_count": 18,
   "id": "e620831e",
   "metadata": {},
   "outputs": [
    {
     "data": {
      "text/plain": [
       "'0594478162'"
      ]
     },
     "execution_count": 18,
     "metadata": {},
     "output_type": "execute_result"
    }
   ],
   "source": [
    "item_item_rating_matrix.index[20]#21th rows has index this.."
   ]
  },
  {
   "cell_type": "code",
   "execution_count": 19,
   "id": "848466d7",
   "metadata": {},
   "outputs": [
    {
     "name": "stdout",
     "output_type": "stream",
     "text": [
      "20\n"
     ]
    }
   ],
   "source": [
    "i = '0594478162'\n",
    "product_names = list(item_item_rating_matrix.index)#lisdown all the productId\n",
    "product_id = product_names.index(i)\n",
    "print(product_id)"
   ]
  },
  {
   "cell_type": "code",
   "execution_count": 20,
   "id": "a0e11b34",
   "metadata": {},
   "outputs": [],
   "source": [
    "#checking correlation_matrix for products/items which are highly correlated with above product i = '0594478162'"
   ]
  },
  {
   "cell_type": "code",
   "execution_count": 21,
   "id": "ef645e85",
   "metadata": {},
   "outputs": [
    {
     "data": {
      "text/plain": [
       "array([ 0.7682784 ,  0.4033012 , -0.31719758, ..., -0.93009127,\n",
       "       -0.45809125, -0.93199585])"
      ]
     },
     "execution_count": 21,
     "metadata": {},
     "output_type": "execute_result"
    }
   ],
   "source": [
    "correlation_matrix[20]#0594478162 correlation of this product with other products is given below....\n",
    "#so if any user purchased this product(20 indexed product which is this pid -> 0594478162) then recommend him top 20 products which are highly correlated with this product\n",
    "#and this correlationcoef value b/n this product 0594478162 and remaining product is given below...(correlation_matrix)"
   ]
  },
  {
   "cell_type": "code",
   "execution_count": 22,
   "id": "7e9f1b95",
   "metadata": {},
   "outputs": [],
   "source": [
    "# -corr coef => negative correlation(ie;negative similarity b/n product)*opposite products\n",
    "#0 (no similarity)\n",
    "# + corr coef => positive correlation(high similarity b/n product)"
   ]
  },
  {
   "cell_type": "code",
   "execution_count": 23,
   "id": "a51dea4a",
   "metadata": {},
   "outputs": [
    {
     "data": {
      "text/plain": [
       "(63, 1305)"
      ]
     },
     "execution_count": 23,
     "metadata": {},
     "output_type": "execute_result"
    }
   ],
   "source": [
    "#\n",
    "correlation_matrix[correlation_matrix[product_id] > 0.85].shape\n",
    "\n",
    "#as u see 25 products are highly correlated with this product(product present at 20th index -> 0594478162)......\n",
    "#thus user who broughted this item/product,,has get the recommendation of these 25 products also bcz thsese are highly correlated.."
   ]
  },
  {
   "cell_type": "code",
   "execution_count": 24,
   "id": "81cad765",
   "metadata": {},
   "outputs": [],
   "source": [
    "#25 highly correlated product.."
   ]
  },
  {
   "cell_type": "code",
   "execution_count": 25,
   "id": "6a14c0da",
   "metadata": {},
   "outputs": [
    {
     "data": {
      "text/plain": [
       "['0594478162',\n",
       " '0594514789',\n",
       " '1616825855',\n",
       " '3281220487',\n",
       " '5135000011',\n",
       " '6875467534',\n",
       " '7663989058',\n",
       " '7879876111',\n",
       " '9577542662',\n",
       " '986106172X',\n",
       " '9875847194',\n",
       " '9966279008',\n",
       " '9966280065',\n",
       " '9966285962',\n",
       " '9966287876',\n",
       " '9966292020',\n",
       " '9966295569',\n",
       " '9966296573',\n",
       " '9966303405',\n",
       " '9966559965']"
      ]
     },
     "execution_count": 25,
     "metadata": {},
     "output_type": "execute_result"
    }
   ],
   "source": [
    "#Recommending top 20 highly correlated product in sequence\n",
    "corr_product_id = correlation_matrix[product_id]\n",
    "recommendations = list(item_item_rating_matrix.index[ corr_product_id > 0.85])\n",
    "recommendations[:20]"
   ]
  },
  {
   "cell_type": "code",
   "execution_count": 26,
   "id": "4bfda8e2",
   "metadata": {},
   "outputs": [],
   "source": [
    "#these are the top 20 products that are recommended , for that user who rated this product 0594478162 (present at 20th index in item_item_rating_matrix)"
   ]
  },
  {
   "cell_type": "markdown",
   "id": "705f4c0c",
   "metadata": {},
   "source": [
    "# Collaberative Filtering(CF) (User-User)"
   ]
  },
  {
   "cell_type": "markdown",
   "id": "4c8aad1a",
   "metadata": {},
   "source": [
    "#also called User Based recommendation System"
   ]
  },
  {
   "cell_type": "markdown",
   "id": "2e1a9c9b",
   "metadata": {},
   "source": [
    "A user based recommenation is a type of system that suggests items to user based on the preferences and behaviors of similar users .\n",
    "Users who have similar tastes in past will likely have similar tastes in future"
   ]
  },
  {
   "cell_type": "markdown",
   "id": "ec1d02ae",
   "metadata": {},
   "source": [
    "#most demanding recommendation system....80% company want this kind of recmd system.."
   ]
  },
  {
   "cell_type": "markdown",
   "id": "1352d41e",
   "metadata": {},
   "source": [
    "#ie;When NEW user comes to our application(web app) and he dont know what is in our application for him,,,then to gain engagement from him we will match some similarity with users which are present in our application ,,ie;past history of already present user  w.r.t new users 'location' and some kind of similar features with already present one"
   ]
  },
  {
   "cell_type": "markdown",
   "id": "4045af46",
   "metadata": {},
   "source": [
    "#ie;matching some similarity of new user with already present user in our app....\n",
    "#ie;by accessing new users location...and finding some users from that location who are already user of our app and recommending items based on those already present users activity...(most popular activity on that location)"
   ]
  },
  {
   "cell_type": "markdown",
   "id": "8d416378",
   "metadata": {},
   "source": [
    "#if no one present in that location,,then check for nearer places or globally trending things"
   ]
  },
  {
   "cell_type": "markdown",
   "id": "1664b996",
   "metadata": {},
   "source": [
    "# above i have used correlation coeff,,now i will use cosine_similarity to derive similarity b/n users"
   ]
  },
  {
   "cell_type": "markdown",
   "id": "8539be60",
   "metadata": {},
   "source": [
    "#u can use correlation coeff also....."
   ]
  },
  {
   "cell_type": "code",
   "execution_count": 27,
   "id": "88973501",
   "metadata": {},
   "outputs": [
    {
     "data": {
      "text/html": [
       "<div>\n",
       "<style scoped>\n",
       "    .dataframe tbody tr th:only-of-type {\n",
       "        vertical-align: middle;\n",
       "    }\n",
       "\n",
       "    .dataframe tbody tr th {\n",
       "        vertical-align: top;\n",
       "    }\n",
       "\n",
       "    .dataframe thead th {\n",
       "        text-align: right;\n",
       "    }\n",
       "</style>\n",
       "<table border=\"1\" class=\"dataframe\">\n",
       "  <thead>\n",
       "    <tr style=\"text-align: right;\">\n",
       "      <th>ProductId</th>\n",
       "      <th>0132793040</th>\n",
       "      <th>0321732944</th>\n",
       "      <th>0439886341</th>\n",
       "      <th>0511189877</th>\n",
       "      <th>0528881469</th>\n",
       "      <th>0558835155</th>\n",
       "      <th>059400232X</th>\n",
       "      <th>0594012015</th>\n",
       "      <th>0594017343</th>\n",
       "      <th>0594017580</th>\n",
       "      <th>...</th>\n",
       "      <th>B00000J1DN</th>\n",
       "      <th>B00000J1DT</th>\n",
       "      <th>B00000J1E6</th>\n",
       "      <th>B00000J1EC</th>\n",
       "      <th>B00000J1EJ</th>\n",
       "      <th>B00000J1EP</th>\n",
       "      <th>B00000J1EQ</th>\n",
       "      <th>B00000J1ES</th>\n",
       "      <th>B00000J1EZ</th>\n",
       "      <th>B00000J1F3</th>\n",
       "    </tr>\n",
       "    <tr>\n",
       "      <th>userId</th>\n",
       "      <th></th>\n",
       "      <th></th>\n",
       "      <th></th>\n",
       "      <th></th>\n",
       "      <th></th>\n",
       "      <th></th>\n",
       "      <th></th>\n",
       "      <th></th>\n",
       "      <th></th>\n",
       "      <th></th>\n",
       "      <th></th>\n",
       "      <th></th>\n",
       "      <th></th>\n",
       "      <th></th>\n",
       "      <th></th>\n",
       "      <th></th>\n",
       "      <th></th>\n",
       "      <th></th>\n",
       "      <th></th>\n",
       "      <th></th>\n",
       "      <th></th>\n",
       "    </tr>\n",
       "  </thead>\n",
       "  <tbody>\n",
       "    <tr>\n",
       "      <th>A00766851QZZUBOVF4JFT</th>\n",
       "      <td>0.0</td>\n",
       "      <td>0.0</td>\n",
       "      <td>0.0</td>\n",
       "      <td>0.0</td>\n",
       "      <td>0.0</td>\n",
       "      <td>0.0</td>\n",
       "      <td>0.0</td>\n",
       "      <td>0.0</td>\n",
       "      <td>0.0</td>\n",
       "      <td>0.0</td>\n",
       "      <td>...</td>\n",
       "      <td>0.0</td>\n",
       "      <td>0.0</td>\n",
       "      <td>0.0</td>\n",
       "      <td>0.0</td>\n",
       "      <td>0.0</td>\n",
       "      <td>0.0</td>\n",
       "      <td>0.0</td>\n",
       "      <td>0.0</td>\n",
       "      <td>0.0</td>\n",
       "      <td>0.0</td>\n",
       "    </tr>\n",
       "    <tr>\n",
       "      <th>A01255851ZO1U93P8RKGE</th>\n",
       "      <td>0.0</td>\n",
       "      <td>0.0</td>\n",
       "      <td>0.0</td>\n",
       "      <td>0.0</td>\n",
       "      <td>0.0</td>\n",
       "      <td>0.0</td>\n",
       "      <td>0.0</td>\n",
       "      <td>0.0</td>\n",
       "      <td>0.0</td>\n",
       "      <td>0.0</td>\n",
       "      <td>...</td>\n",
       "      <td>0.0</td>\n",
       "      <td>0.0</td>\n",
       "      <td>0.0</td>\n",
       "      <td>0.0</td>\n",
       "      <td>0.0</td>\n",
       "      <td>0.0</td>\n",
       "      <td>0.0</td>\n",
       "      <td>0.0</td>\n",
       "      <td>0.0</td>\n",
       "      <td>0.0</td>\n",
       "    </tr>\n",
       "    <tr>\n",
       "      <th>A0293130VTX2ZXA70JQS</th>\n",
       "      <td>0.0</td>\n",
       "      <td>0.0</td>\n",
       "      <td>0.0</td>\n",
       "      <td>0.0</td>\n",
       "      <td>0.0</td>\n",
       "      <td>0.0</td>\n",
       "      <td>0.0</td>\n",
       "      <td>0.0</td>\n",
       "      <td>0.0</td>\n",
       "      <td>0.0</td>\n",
       "      <td>...</td>\n",
       "      <td>0.0</td>\n",
       "      <td>0.0</td>\n",
       "      <td>0.0</td>\n",
       "      <td>0.0</td>\n",
       "      <td>0.0</td>\n",
       "      <td>0.0</td>\n",
       "      <td>0.0</td>\n",
       "      <td>0.0</td>\n",
       "      <td>0.0</td>\n",
       "      <td>0.0</td>\n",
       "    </tr>\n",
       "    <tr>\n",
       "      <th>A030530627MK66BD8V4LN</th>\n",
       "      <td>0.0</td>\n",
       "      <td>0.0</td>\n",
       "      <td>0.0</td>\n",
       "      <td>0.0</td>\n",
       "      <td>0.0</td>\n",
       "      <td>0.0</td>\n",
       "      <td>0.0</td>\n",
       "      <td>0.0</td>\n",
       "      <td>0.0</td>\n",
       "      <td>0.0</td>\n",
       "      <td>...</td>\n",
       "      <td>0.0</td>\n",
       "      <td>0.0</td>\n",
       "      <td>0.0</td>\n",
       "      <td>0.0</td>\n",
       "      <td>0.0</td>\n",
       "      <td>0.0</td>\n",
       "      <td>0.0</td>\n",
       "      <td>0.0</td>\n",
       "      <td>0.0</td>\n",
       "      <td>0.0</td>\n",
       "    </tr>\n",
       "    <tr>\n",
       "      <th>A0402564TCEO67AUZFJO</th>\n",
       "      <td>0.0</td>\n",
       "      <td>0.0</td>\n",
       "      <td>0.0</td>\n",
       "      <td>0.0</td>\n",
       "      <td>0.0</td>\n",
       "      <td>0.0</td>\n",
       "      <td>0.0</td>\n",
       "      <td>0.0</td>\n",
       "      <td>0.0</td>\n",
       "      <td>0.0</td>\n",
       "      <td>...</td>\n",
       "      <td>0.0</td>\n",
       "      <td>0.0</td>\n",
       "      <td>0.0</td>\n",
       "      <td>0.0</td>\n",
       "      <td>0.0</td>\n",
       "      <td>0.0</td>\n",
       "      <td>0.0</td>\n",
       "      <td>0.0</td>\n",
       "      <td>0.0</td>\n",
       "      <td>0.0</td>\n",
       "    </tr>\n",
       "    <tr>\n",
       "      <th>...</th>\n",
       "      <td>...</td>\n",
       "      <td>...</td>\n",
       "      <td>...</td>\n",
       "      <td>...</td>\n",
       "      <td>...</td>\n",
       "      <td>...</td>\n",
       "      <td>...</td>\n",
       "      <td>...</td>\n",
       "      <td>...</td>\n",
       "      <td>...</td>\n",
       "      <td>...</td>\n",
       "      <td>...</td>\n",
       "      <td>...</td>\n",
       "      <td>...</td>\n",
       "      <td>...</td>\n",
       "      <td>...</td>\n",
       "      <td>...</td>\n",
       "      <td>...</td>\n",
       "      <td>...</td>\n",
       "      <td>...</td>\n",
       "      <td>...</td>\n",
       "    </tr>\n",
       "    <tr>\n",
       "      <th>AZYNQZ94U6VDB</th>\n",
       "      <td>0.0</td>\n",
       "      <td>0.0</td>\n",
       "      <td>0.0</td>\n",
       "      <td>5.0</td>\n",
       "      <td>0.0</td>\n",
       "      <td>0.0</td>\n",
       "      <td>0.0</td>\n",
       "      <td>0.0</td>\n",
       "      <td>0.0</td>\n",
       "      <td>0.0</td>\n",
       "      <td>...</td>\n",
       "      <td>0.0</td>\n",
       "      <td>0.0</td>\n",
       "      <td>0.0</td>\n",
       "      <td>0.0</td>\n",
       "      <td>0.0</td>\n",
       "      <td>0.0</td>\n",
       "      <td>0.0</td>\n",
       "      <td>0.0</td>\n",
       "      <td>0.0</td>\n",
       "      <td>0.0</td>\n",
       "    </tr>\n",
       "    <tr>\n",
       "      <th>AZYTSU42BZ7TP</th>\n",
       "      <td>0.0</td>\n",
       "      <td>0.0</td>\n",
       "      <td>0.0</td>\n",
       "      <td>0.0</td>\n",
       "      <td>0.0</td>\n",
       "      <td>0.0</td>\n",
       "      <td>0.0</td>\n",
       "      <td>0.0</td>\n",
       "      <td>0.0</td>\n",
       "      <td>0.0</td>\n",
       "      <td>...</td>\n",
       "      <td>0.0</td>\n",
       "      <td>0.0</td>\n",
       "      <td>0.0</td>\n",
       "      <td>0.0</td>\n",
       "      <td>0.0</td>\n",
       "      <td>0.0</td>\n",
       "      <td>0.0</td>\n",
       "      <td>0.0</td>\n",
       "      <td>0.0</td>\n",
       "      <td>0.0</td>\n",
       "    </tr>\n",
       "    <tr>\n",
       "      <th>AZZ77XYX8O2WE</th>\n",
       "      <td>0.0</td>\n",
       "      <td>0.0</td>\n",
       "      <td>0.0</td>\n",
       "      <td>0.0</td>\n",
       "      <td>0.0</td>\n",
       "      <td>0.0</td>\n",
       "      <td>0.0</td>\n",
       "      <td>0.0</td>\n",
       "      <td>0.0</td>\n",
       "      <td>0.0</td>\n",
       "      <td>...</td>\n",
       "      <td>0.0</td>\n",
       "      <td>0.0</td>\n",
       "      <td>0.0</td>\n",
       "      <td>0.0</td>\n",
       "      <td>0.0</td>\n",
       "      <td>0.0</td>\n",
       "      <td>0.0</td>\n",
       "      <td>0.0</td>\n",
       "      <td>0.0</td>\n",
       "      <td>0.0</td>\n",
       "    </tr>\n",
       "    <tr>\n",
       "      <th>AZZGUU97OHUF1</th>\n",
       "      <td>0.0</td>\n",
       "      <td>0.0</td>\n",
       "      <td>0.0</td>\n",
       "      <td>0.0</td>\n",
       "      <td>0.0</td>\n",
       "      <td>0.0</td>\n",
       "      <td>0.0</td>\n",
       "      <td>0.0</td>\n",
       "      <td>0.0</td>\n",
       "      <td>0.0</td>\n",
       "      <td>...</td>\n",
       "      <td>0.0</td>\n",
       "      <td>0.0</td>\n",
       "      <td>0.0</td>\n",
       "      <td>0.0</td>\n",
       "      <td>0.0</td>\n",
       "      <td>0.0</td>\n",
       "      <td>0.0</td>\n",
       "      <td>0.0</td>\n",
       "      <td>0.0</td>\n",
       "      <td>0.0</td>\n",
       "    </tr>\n",
       "    <tr>\n",
       "      <th>AZZMV5VT9W7Y8</th>\n",
       "      <td>0.0</td>\n",
       "      <td>0.0</td>\n",
       "      <td>0.0</td>\n",
       "      <td>0.0</td>\n",
       "      <td>0.0</td>\n",
       "      <td>0.0</td>\n",
       "      <td>0.0</td>\n",
       "      <td>0.0</td>\n",
       "      <td>0.0</td>\n",
       "      <td>0.0</td>\n",
       "      <td>...</td>\n",
       "      <td>0.0</td>\n",
       "      <td>0.0</td>\n",
       "      <td>0.0</td>\n",
       "      <td>0.0</td>\n",
       "      <td>0.0</td>\n",
       "      <td>0.0</td>\n",
       "      <td>0.0</td>\n",
       "      <td>0.0</td>\n",
       "      <td>0.0</td>\n",
       "      <td>0.0</td>\n",
       "    </tr>\n",
       "  </tbody>\n",
       "</table>\n",
       "<p>9826 rows × 1305 columns</p>\n",
       "</div>"
      ],
      "text/plain": [
       "ProductId              0132793040  0321732944  0439886341  0511189877  \\\n",
       "userId                                                                  \n",
       "A00766851QZZUBOVF4JFT         0.0         0.0         0.0         0.0   \n",
       "A01255851ZO1U93P8RKGE         0.0         0.0         0.0         0.0   \n",
       "A0293130VTX2ZXA70JQS          0.0         0.0         0.0         0.0   \n",
       "A030530627MK66BD8V4LN         0.0         0.0         0.0         0.0   \n",
       "A0402564TCEO67AUZFJO          0.0         0.0         0.0         0.0   \n",
       "...                           ...         ...         ...         ...   \n",
       "AZYNQZ94U6VDB                 0.0         0.0         0.0         5.0   \n",
       "AZYTSU42BZ7TP                 0.0         0.0         0.0         0.0   \n",
       "AZZ77XYX8O2WE                 0.0         0.0         0.0         0.0   \n",
       "AZZGUU97OHUF1                 0.0         0.0         0.0         0.0   \n",
       "AZZMV5VT9W7Y8                 0.0         0.0         0.0         0.0   \n",
       "\n",
       "ProductId              0528881469  0558835155  059400232X  0594012015  \\\n",
       "userId                                                                  \n",
       "A00766851QZZUBOVF4JFT         0.0         0.0         0.0         0.0   \n",
       "A01255851ZO1U93P8RKGE         0.0         0.0         0.0         0.0   \n",
       "A0293130VTX2ZXA70JQS          0.0         0.0         0.0         0.0   \n",
       "A030530627MK66BD8V4LN         0.0         0.0         0.0         0.0   \n",
       "A0402564TCEO67AUZFJO          0.0         0.0         0.0         0.0   \n",
       "...                           ...         ...         ...         ...   \n",
       "AZYNQZ94U6VDB                 0.0         0.0         0.0         0.0   \n",
       "AZYTSU42BZ7TP                 0.0         0.0         0.0         0.0   \n",
       "AZZ77XYX8O2WE                 0.0         0.0         0.0         0.0   \n",
       "AZZGUU97OHUF1                 0.0         0.0         0.0         0.0   \n",
       "AZZMV5VT9W7Y8                 0.0         0.0         0.0         0.0   \n",
       "\n",
       "ProductId              0594017343  0594017580  ...  B00000J1DN  B00000J1DT  \\\n",
       "userId                                         ...                           \n",
       "A00766851QZZUBOVF4JFT         0.0         0.0  ...         0.0         0.0   \n",
       "A01255851ZO1U93P8RKGE         0.0         0.0  ...         0.0         0.0   \n",
       "A0293130VTX2ZXA70JQS          0.0         0.0  ...         0.0         0.0   \n",
       "A030530627MK66BD8V4LN         0.0         0.0  ...         0.0         0.0   \n",
       "A0402564TCEO67AUZFJO          0.0         0.0  ...         0.0         0.0   \n",
       "...                           ...         ...  ...         ...         ...   \n",
       "AZYNQZ94U6VDB                 0.0         0.0  ...         0.0         0.0   \n",
       "AZYTSU42BZ7TP                 0.0         0.0  ...         0.0         0.0   \n",
       "AZZ77XYX8O2WE                 0.0         0.0  ...         0.0         0.0   \n",
       "AZZGUU97OHUF1                 0.0         0.0  ...         0.0         0.0   \n",
       "AZZMV5VT9W7Y8                 0.0         0.0  ...         0.0         0.0   \n",
       "\n",
       "ProductId              B00000J1E6  B00000J1EC  B00000J1EJ  B00000J1EP  \\\n",
       "userId                                                                  \n",
       "A00766851QZZUBOVF4JFT         0.0         0.0         0.0         0.0   \n",
       "A01255851ZO1U93P8RKGE         0.0         0.0         0.0         0.0   \n",
       "A0293130VTX2ZXA70JQS          0.0         0.0         0.0         0.0   \n",
       "A030530627MK66BD8V4LN         0.0         0.0         0.0         0.0   \n",
       "A0402564TCEO67AUZFJO          0.0         0.0         0.0         0.0   \n",
       "...                           ...         ...         ...         ...   \n",
       "AZYNQZ94U6VDB                 0.0         0.0         0.0         0.0   \n",
       "AZYTSU42BZ7TP                 0.0         0.0         0.0         0.0   \n",
       "AZZ77XYX8O2WE                 0.0         0.0         0.0         0.0   \n",
       "AZZGUU97OHUF1                 0.0         0.0         0.0         0.0   \n",
       "AZZMV5VT9W7Y8                 0.0         0.0         0.0         0.0   \n",
       "\n",
       "ProductId              B00000J1EQ  B00000J1ES  B00000J1EZ  B00000J1F3  \n",
       "userId                                                                 \n",
       "A00766851QZZUBOVF4JFT         0.0         0.0         0.0         0.0  \n",
       "A01255851ZO1U93P8RKGE         0.0         0.0         0.0         0.0  \n",
       "A0293130VTX2ZXA70JQS          0.0         0.0         0.0         0.0  \n",
       "A030530627MK66BD8V4LN         0.0         0.0         0.0         0.0  \n",
       "A0402564TCEO67AUZFJO          0.0         0.0         0.0         0.0  \n",
       "...                           ...         ...         ...         ...  \n",
       "AZYNQZ94U6VDB                 0.0         0.0         0.0         0.0  \n",
       "AZYTSU42BZ7TP                 0.0         0.0         0.0         0.0  \n",
       "AZZ77XYX8O2WE                 0.0         0.0         0.0         0.0  \n",
       "AZZGUU97OHUF1                 0.0         0.0         0.0         0.0  \n",
       "AZZMV5VT9W7Y8                 0.0         0.0         0.0         0.0  \n",
       "\n",
       "[9826 rows x 1305 columns]"
      ]
     },
     "execution_count": 27,
     "metadata": {},
     "output_type": "execute_result"
    }
   ],
   "source": [
    "rating_matrix"
   ]
  },
  {
   "cell_type": "code",
   "execution_count": 28,
   "id": "d73e1d28",
   "metadata": {},
   "outputs": [],
   "source": [
    "user_similarity = cosine_similarity(rating_matrix)\n",
    "#establishing similarity b/n users.."
   ]
  },
  {
   "cell_type": "code",
   "execution_count": 29,
   "id": "e5ec4b7a",
   "metadata": {},
   "outputs": [
    {
     "data": {
      "text/plain": [
       "array([[1., 0., 0., ..., 0., 0., 0.],\n",
       "       [0., 1., 0., ..., 0., 0., 0.],\n",
       "       [0., 0., 1., ..., 0., 0., 0.],\n",
       "       ...,\n",
       "       [0., 0., 0., ..., 1., 0., 0.],\n",
       "       [0., 0., 0., ..., 0., 1., 0.],\n",
       "       [0., 0., 0., ..., 0., 0., 1.]])"
      ]
     },
     "execution_count": 29,
     "metadata": {},
     "output_type": "execute_result"
    }
   ],
   "source": [
    "user_similarity"
   ]
  },
  {
   "cell_type": "code",
   "execution_count": 30,
   "id": "7e781270",
   "metadata": {},
   "outputs": [
    {
     "data": {
      "text/plain": [
       "'A0821988FXKFYX53V4QG'"
      ]
     },
     "execution_count": 30,
     "metadata": {},
     "output_type": "execute_result"
    }
   ],
   "source": [
    "N_U = 10\n",
    "new_user = rating_matrix.index[N_U] #assuming user present at 10th index is our new user\n",
    "new_user#userId"
   ]
  },
  {
   "cell_type": "code",
   "execution_count": 31,
   "id": "03bdeb60",
   "metadata": {},
   "outputs": [
    {
     "data": {
      "text/plain": [
       "array([   0, 6470, 6471, ..., 8642, 6294, 5574], dtype=int64)"
      ]
     },
     "execution_count": 31,
     "metadata": {},
     "output_type": "execute_result"
    }
   ],
   "source": [
    "neighbor_indices = user_similarity[N_U].argsort()  #argsort() return indices of sorted array....\n",
    "neighbor_indices"
   ]
  },
  {
   "cell_type": "code",
   "execution_count": 35,
   "id": "db51c9aa",
   "metadata": {},
   "outputs": [
    {
     "data": {
      "text/plain": [
       "array([6294, 8642, 1744, ..., 6471, 6470,    0], dtype=int64)"
      ]
     },
     "execution_count": 35,
     "metadata": {},
     "output_type": "execute_result"
    }
   ],
   "source": [
    "#but i needed it in descending order...\n",
    "neighbor_indices = user_similarity[N_U].argsort()[::-1][1:]  #sorting the indices of sorted array in descending order..\n",
    "neighbor_indices"
   ]
  },
  {
   "cell_type": "code",
   "execution_count": 33,
   "id": "1b574128",
   "metadata": {},
   "outputs": [],
   "source": [
    "#user present at index 6294 is more similar to N_U  compare to other users.."
   ]
  },
  {
   "cell_type": "markdown",
   "id": "01990e70",
   "metadata": {},
   "source": [
    "# learn cosine similarity then u understand this concept"
   ]
  },
  {
   "cell_type": "code",
   "execution_count": 40,
   "id": "b9abcb8d",
   "metadata": {},
   "outputs": [
    {
     "data": {
      "text/html": [
       "<div>\n",
       "<style scoped>\n",
       "    .dataframe tbody tr th:only-of-type {\n",
       "        vertical-align: middle;\n",
       "    }\n",
       "\n",
       "    .dataframe tbody tr th {\n",
       "        vertical-align: top;\n",
       "    }\n",
       "\n",
       "    .dataframe thead th {\n",
       "        text-align: right;\n",
       "    }\n",
       "</style>\n",
       "<table border=\"1\" class=\"dataframe\">\n",
       "  <thead>\n",
       "    <tr style=\"text-align: right;\">\n",
       "      <th></th>\n",
       "      <th>userId</th>\n",
       "      <th>ProductId</th>\n",
       "      <th>rating</th>\n",
       "    </tr>\n",
       "  </thead>\n",
       "  <tbody>\n",
       "    <tr>\n",
       "      <th>0</th>\n",
       "      <td>AKM1MP6P0OYPR</td>\n",
       "      <td>0132793040</td>\n",
       "      <td>5.0</td>\n",
       "    </tr>\n",
       "    <tr>\n",
       "      <th>1</th>\n",
       "      <td>A2CX7LUOHB2NDG</td>\n",
       "      <td>0321732944</td>\n",
       "      <td>5.0</td>\n",
       "    </tr>\n",
       "    <tr>\n",
       "      <th>5</th>\n",
       "      <td>A1QGNMC6O1VW39</td>\n",
       "      <td>0511189877</td>\n",
       "      <td>5.0</td>\n",
       "    </tr>\n",
       "    <tr>\n",
       "      <th>6</th>\n",
       "      <td>A3J3BRHTDRFJ2G</td>\n",
       "      <td>0511189877</td>\n",
       "      <td>2.0</td>\n",
       "    </tr>\n",
       "    <tr>\n",
       "      <th>7</th>\n",
       "      <td>A2TY0BTJOTENPG</td>\n",
       "      <td>0511189877</td>\n",
       "      <td>5.0</td>\n",
       "    </tr>\n",
       "    <tr>\n",
       "      <th>8</th>\n",
       "      <td>A34ATBPOK6HCHY</td>\n",
       "      <td>0511189877</td>\n",
       "      <td>5.0</td>\n",
       "    </tr>\n",
       "    <tr>\n",
       "      <th>9</th>\n",
       "      <td>A89DO69P0XZ27</td>\n",
       "      <td>0511189877</td>\n",
       "      <td>5.0</td>\n",
       "    </tr>\n",
       "    <tr>\n",
       "      <th>10</th>\n",
       "      <td>AZYNQZ94U6VDB</td>\n",
       "      <td>0511189877</td>\n",
       "      <td>5.0</td>\n",
       "    </tr>\n",
       "    <tr>\n",
       "      <th>11</th>\n",
       "      <td>A1DA3W4GTFXP6O</td>\n",
       "      <td>0528881469</td>\n",
       "      <td>5.0</td>\n",
       "    </tr>\n",
       "    <tr>\n",
       "      <th>12</th>\n",
       "      <td>A29LPQQDG7LD5J</td>\n",
       "      <td>0528881469</td>\n",
       "      <td>1.0</td>\n",
       "    </tr>\n",
       "  </tbody>\n",
       "</table>\n",
       "</div>"
      ],
      "text/plain": [
       "            userId   ProductId  rating\n",
       "0    AKM1MP6P0OYPR  0132793040     5.0\n",
       "1   A2CX7LUOHB2NDG  0321732944     5.0\n",
       "5   A1QGNMC6O1VW39  0511189877     5.0\n",
       "6   A3J3BRHTDRFJ2G  0511189877     2.0\n",
       "7   A2TY0BTJOTENPG  0511189877     5.0\n",
       "8   A34ATBPOK6HCHY  0511189877     5.0\n",
       "9    A89DO69P0XZ27  0511189877     5.0\n",
       "10   AZYNQZ94U6VDB  0511189877     5.0\n",
       "11  A1DA3W4GTFXP6O  0528881469     5.0\n",
       "12  A29LPQQDG7LD5J  0528881469     1.0"
      ]
     },
     "execution_count": 40,
     "metadata": {},
     "output_type": "execute_result"
    }
   ],
   "source": [
    "recommended_items = []\n",
    "\n",
    "for neighbor_index in neighbor_indices.tolist():\n",
    "    neighbor_ratings = rating_matrix.iloc[neighbor_index]\n",
    "    target_user_ratings = rating_matrix.iloc[N_U]\n",
    "    \n",
    "    #find the item that the neighbor has rated highly but the target user has has not\n",
    "    recommended_indices = [i for i,rating in enumerate(neighbor_ratings) if rating > 4 and target_user_ratings[i] == 0]\n",
    "    \n",
    "    #add the recommended items to the list\n",
    "    recommended_items.extend(rating_matrix.columns[ recommended_indices])\n",
    "    \n",
    "#display the recommended items\n",
    "recommended_df = df[df['ProductId'].isin(recommended_items)]\n",
    "recommended_df = recommended_df.head(10) #10 recommended items to user\n",
    "recommended_df"
   ]
  },
  {
   "cell_type": "code",
   "execution_count": null,
   "id": "2f618927",
   "metadata": {},
   "outputs": [],
   "source": [
    "#these 10 products are recommended to new user (N_U)"
   ]
  },
  {
   "cell_type": "code",
   "execution_count": null,
   "id": "2d1b8db9",
   "metadata": {},
   "outputs": [],
   "source": []
  },
  {
   "cell_type": "code",
   "execution_count": null,
   "id": "f7889388",
   "metadata": {},
   "outputs": [],
   "source": []
  }
 ],
 "metadata": {
  "kernelspec": {
   "display_name": "Python 3 (ipykernel)",
   "language": "python",
   "name": "python3"
  },
  "language_info": {
   "codemirror_mode": {
    "name": "ipython",
    "version": 3
   },
   "file_extension": ".py",
   "mimetype": "text/x-python",
   "name": "python",
   "nbconvert_exporter": "python",
   "pygments_lexer": "ipython3",
   "version": "3.11.4"
  }
 },
 "nbformat": 4,
 "nbformat_minor": 5
}
